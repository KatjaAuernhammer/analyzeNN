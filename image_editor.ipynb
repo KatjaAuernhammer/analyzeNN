{
 "cells": [
  {
   "cell_type": "code",
   "execution_count": 1,
   "metadata": {
    "collapsed": true,
    "deletable": true,
    "editable": true
   },
   "outputs": [],
   "source": [
    "from __future__ import print_function\n",
    "from ipywidgets import interact, interactive, fixed, interact_manual\n",
    "import ipywidgets as widgets\n",
    "from ipywidgets import FloatSlider\n",
    "\n",
    "from PIL import Image, ImageFilter\n",
    "import PIL\n",
    "from IPython import display\n",
    "\n",
    "from matplotlib.pyplot import imshow\n",
    "%matplotlib inline\n",
    "\n",
    "import pickle"
   ]
  },
  {
   "cell_type": "code",
   "execution_count": 2,
   "metadata": {
    "collapsed": true,
    "deletable": true,
    "editable": true
   },
   "outputs": [],
   "source": [
    "from gen_pic_utils import *\n",
    "import populate_library"
   ]
  },
  {
   "cell_type": "markdown",
   "metadata": {
    "deletable": true,
    "editable": true
   },
   "source": [
    "## Select car and road type"
   ]
  },
  {
   "cell_type": "code",
   "execution_count": 9,
   "metadata": {
    "collapsed": true,
    "deletable": true,
    "editable": true
   },
   "outputs": [],
   "source": [
    "car_types = [9]\n",
    "road_type = 57\n",
    "\n",
    "# Initialize car configurations (x,y,scale)\n",
    "configurations = []\n",
    "for _ in car_types:\n",
    "    configurations.append((0,0,1))\n",
    "    "
   ]
  },
  {
   "cell_type": "code",
   "execution_count": 10,
   "metadata": {
    "collapsed": false,
    "deletable": true,
    "editable": true
   },
   "outputs": [],
   "source": [
    "# Slider parameters\n",
    "car_widget = FloatSlider(min=0, max=len(car_types)-1, step=1, value=0)\n",
    "x_widget = FloatSlider(min=1, max=1242, step=1)\n",
    "y_widget = FloatSlider(min=1, max=375, step=1)\n",
    "scale_widget = FloatSlider(min=0.1, max=2.0, step=0.1, value=1)\n",
    "\n",
    "def update_car_conf_widgets(*args):\n",
    "    (x,y,scale) = configurations[int(car_widget.value)]\n",
    "    x_widget.value = x\n",
    "    y_widget.value = y\n",
    "    scale_widget.value = scale\n",
    "    \n",
    "car_widget.observe(update_car_conf_widgets, 'value')\n",
    "\n",
    "def update_image(car,x,y,scale):\n",
    "    configurations[int(car_widget.value)] = (x_widget.value,y_widget.value,scale_widget.value)\n",
    "    \n",
    "    lib = populate_library.populateLibrary()     \n",
    "        \n",
    "    cars = []\n",
    "    for car_type in car_types:\n",
    "        cars.append(lib.getElement(\"cars\", car_type))\n",
    "        \n",
    "    road = lib.getElement(\"roads\", 57)    \n",
    "    \n",
    "    for car, (x,y,scale) in zip(cars,configurations):\n",
    "        car.data = car.data.resize((int(car.data.size[0]*scale), int(car.data.size[1]*scale)), PIL.Image.ANTIALIAS)\n",
    "        car_mask = car.data.getdata(3)\n",
    "        mask = Image.new('L', car.data.size, color = 0)\n",
    "        mask.putdata(car_mask)        \n",
    "        road.data.paste(car.data, (int(x),int(y)), mask)\n",
    "        \n",
    "    display.display(road.data)\n"
   ]
  },
  {
   "cell_type": "code",
   "execution_count": 11,
   "metadata": {
    "collapsed": false,
    "deletable": true,
    "editable": true
   },
   "outputs": [
    {
     "data": {
      "application/vnd.jupyter.widget-view+json": {
       "model_id": "3be85b1a69a04607809b8b80692a67ec"
      }
     },
     "metadata": {},
     "output_type": "display_data"
    }
   ],
   "source": [
    "# Start GUI\n",
    "interact(update_image,car=car_widget, x=x_widget, y=y_widget, scale=scale_widget);\n"
   ]
  },
  {
   "cell_type": "code",
   "execution_count": 9,
   "metadata": {
    "collapsed": false,
    "deletable": true,
    "editable": true
   },
   "outputs": [
    {
     "data": {
      "text/plain": [
       "[(574.0, 109.0, 0.5), (631.0, 118.0, 1.0), (369.0, 130.0, 1.0)]"
      ]
     },
     "execution_count": 9,
     "metadata": {},
     "output_type": "execute_result"
    }
   ],
   "source": [
    "configurations"
   ]
  },
  {
   "cell_type": "code",
   "execution_count": 37,
   "metadata": {
    "collapsed": true,
    "deletable": true,
    "editable": true
   },
   "outputs": [],
   "source": [
    "image_configurations = load('image_configurations')\n",
    "image_configurations[road_type] += configurations\n",
    "save('image_configurations',image_configurations)"
   ]
  },
  {
   "cell_type": "code",
   "execution_count": 8,
   "metadata": {
    "collapsed": true,
    "deletable": true,
    "editable": true
   },
   "outputs": [],
   "source": [
    "def save(filename,data):\n",
    "    with open(filename, 'w+') as f:\n",
    "        pickle.dump(data, f)\n",
    "        \n",
    "def load(filename):\n",
    "    with open(filename, 'rb') as f:\n",
    "        return pickle.load(f)"
   ]
  }
 ],
 "metadata": {
  "kernelspec": {
   "display_name": "Python 2",
   "language": "python",
   "name": "python2"
  },
  "language_info": {
   "codemirror_mode": {
    "name": "ipython",
    "version": 2
   },
   "file_extension": ".py",
   "mimetype": "text/x-python",
   "name": "python",
   "nbconvert_exporter": "python",
   "pygments_lexer": "ipython2",
   "version": "2.7.13"
  }
 },
 "nbformat": 4,
 "nbformat_minor": 2
}
