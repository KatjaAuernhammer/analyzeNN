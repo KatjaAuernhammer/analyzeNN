{
 "cells": [
  {
   "cell_type": "code",
   "execution_count": 1,
   "metadata": {
    "collapsed": true,
    "deletable": true,
    "editable": true
   },
   "outputs": [],
   "source": [
    "from __future__ import print_function\n",
    "from ipywidgets import interact, interactive, fixed, interact_manual\n",
    "import ipywidgets as widgets\n",
    "from ipywidgets import FloatSlider\n",
    "\n",
    "from PIL import Image, ImageFilter\n",
    "import PIL\n",
    "from IPython import display\n",
    "\n",
    "from matplotlib.pyplot import imshow\n",
    "%matplotlib inline\n",
    "\n",
    "import pickle"
   ]
  },
  {
   "cell_type": "code",
   "execution_count": 2,
   "metadata": {
    "collapsed": true,
    "deletable": true,
    "editable": true
   },
   "outputs": [],
   "source": [
    "from gen_pic_utils import *\n",
    "import populate_library"
   ]
  },
  {
   "cell_type": "markdown",
   "metadata": {
    "deletable": true,
    "editable": true
   },
   "source": [
    "## Select road type"
   ]
  },
  {
   "cell_type": "code",
   "execution_count": 7,
   "metadata": {
    "collapsed": true,
    "deletable": true,
    "editable": true
   },
   "outputs": [],
   "source": [
    "road_type = 62 \n",
    "car_type = 12\n",
    "\n",
    "image_size = (1242,375)"
   ]
  },
  {
   "cell_type": "code",
   "execution_count": 8,
   "metadata": {
    "collapsed": false,
    "deletable": true,
    "editable": true
   },
   "outputs": [],
   "source": [
    "def save(filename,data):\n",
    "    with open(filename, 'w+') as f:\n",
    "        pickle.dump(data, f)\n",
    "        \n",
    "def load(filename):\n",
    "    with open(filename, 'rb') as f:\n",
    "        return pickle.load(f)"
   ]
  },
  {
   "cell_type": "code",
   "execution_count": 9,
   "metadata": {
    "collapsed": false,
    "deletable": true,
    "editable": true
   },
   "outputs": [],
   "source": [
    "# Init variables\n",
    "poly_verts = 4\n",
    "polygon = [(image_size[0],image_size[1]),(image_size[0],1),(1,1),(1,image_size[1])]\n",
    "scales = [1, 1]\n",
    "    \n",
    "# Slider parameters\n",
    "point_widget = FloatSlider(min=0, max=poly_verts-1, step=1, value=0)\n",
    "x_widget = FloatSlider(min=1, max=image_size[0], step=1, value=image_size[0])\n",
    "y_widget = FloatSlider(min=1, max=image_size[1], step=1, value=image_size[1])\n",
    "car_widget = FloatSlider(min=0, max=1, step=1, value=0)\n",
    "scale_widget = FloatSlider(min=0.1, max=2.0, step=0.1, value=1)\n",
    "car_x_pos_widget = FloatSlider(min=0.0, max=1.0, step=0.1, value=0.5)\n",
    "\n",
    "def update_car_conf_widgets(*args):\n",
    "    (x,y) = polygon[int(point_widget.value)]\n",
    "    x_widget.value = x\n",
    "    y_widget.value = y\n",
    "    \n",
    "def update_car_scale_widgets(*args):    \n",
    "    scale = scales[int(car_widget.value)]\n",
    "    scale_widget.value = scale\n",
    "    \n",
    "car_widget.observe(update_car_scale_widgets, 'value')    \n",
    "point_widget.observe(update_car_conf_widgets, 'value')\n",
    "\n",
    "def update_point_widgets(point,x,y,car_pos,scale,car_x_pos):\n",
    "    \n",
    "    point_id = int(point_widget.value)\n",
    "    polygon[point_id] = (x_widget.value,y_widget.value)\n",
    "    tmp_pt = list(polygon[3 - point_id])\n",
    "    tmp_pt[1] = y_widget.value\n",
    "    polygon[3 - point_id] = tuple(tmp_pt)    \n",
    "        \n",
    "    polygon[int(point_widget.value)] = (x_widget.value,y_widget.value)\n",
    "    scales[int(car_pos)] = scale       \n",
    "    \n",
    "    lib = populate_library.populateLibrary()     \n",
    "        \n",
    "    road = lib.getElement(\"roads\", road_type) \n",
    "    car = lib.getElement(\"cars\", car_type)\n",
    "    \n",
    "    lrx = polygon[0][0]\n",
    "    lry = polygon[0][1]\n",
    "    llx = polygon[3][0]\n",
    "    \n",
    "    urx = polygon[1][0]\n",
    "    ury = polygon[1][1]\n",
    "    ulx = polygon[2][0]\n",
    "    \n",
    "    car.data = car.data.resize((int(car.data.size[0]*scale), int(car.data.size[1]*scale)), PIL.Image.ANTIALIAS)\n",
    "    car_mask = car.data.getdata(3)\n",
    "    mask = Image.new('L', car.data.size, color = 0)\n",
    "    mask.putdata(car_mask)        \n",
    "    \n",
    "    if(car_pos == 0):\n",
    "        car_x = int(llx + (lrx-llx)*car_x_pos - car.data.size[0]/2)\n",
    "        car_y = int(lry - (car.data.size[1]/2))\n",
    "    else:\n",
    "        car_x = int(ulx + (urx-ulx)*car_x_pos - car.data.size[0]/2)\n",
    "        car_y = int(ury - (car.data.size[1]/2))\n",
    "    \n",
    "    road.data.paste(car.data, (car_x,car_y), mask)    \n",
    "    draw = ImageDraw.Draw(road.data)\n",
    "    \n",
    "    eps = 5\n",
    "    draw.ellipse((x-eps, y-eps, x+eps, y+eps), fill = 'blue', outline ='blue')\n",
    "    draw.polygon(polygon, fill=None, outline=(255,0,0,255))      \n",
    "        \n",
    "    display.display(road.data)\n",
    "    "
   ]
  },
  {
   "cell_type": "code",
   "execution_count": 10,
   "metadata": {
    "collapsed": false,
    "deletable": true,
    "editable": true
   },
   "outputs": [
    {
     "data": {
      "application/vnd.jupyter.widget-view+json": {
       "model_id": "7f1f00909479457fb00e19bdf61cd88a"
      }
     },
     "metadata": {},
     "output_type": "display_data"
    }
   ],
   "source": [
    "interact(update_point_widgets,point=point_widget, x=x_widget, y=y_widget, car_pos=car_widget, scale=scale_widget, car_x_pos=car_x_pos_widget);"
   ]
  },
  {
   "cell_type": "code",
   "execution_count": 20,
   "metadata": {
    "collapsed": false
   },
   "outputs": [
    {
     "data": {
      "text/plain": [
       "([(1242.0, 375.0), (1242, 1), (1, 1), (1, 375.0)], [1.0, 1])"
      ]
     },
     "execution_count": 20,
     "metadata": {},
     "output_type": "execute_result"
    }
   ],
   "source": [
    "(polygon,scales)"
   ]
  },
  {
   "cell_type": "code",
   "execution_count": 11,
   "metadata": {
    "collapsed": false,
    "deletable": true,
    "editable": true
   },
   "outputs": [],
   "source": [
    "configs = load('scene_configs')\n",
    "configs[road_type] = (polygon,scales)\n",
    "save('scene_configs',configs)"
   ]
  },
  {
   "cell_type": "code",
   "execution_count": 12,
   "metadata": {
    "collapsed": false
   },
   "outputs": [
    {
     "data": {
      "text/plain": [
       "[[],\n",
       " [],\n",
       " [],\n",
       " [],\n",
       " [],\n",
       " [],\n",
       " [],\n",
       " [],\n",
       " [],\n",
       " [],\n",
       " [],\n",
       " [],\n",
       " [],\n",
       " [],\n",
       " [],\n",
       " [],\n",
       " [],\n",
       " [],\n",
       " [],\n",
       " [],\n",
       " [],\n",
       " [],\n",
       " [],\n",
       " [],\n",
       " [],\n",
       " [],\n",
       " [],\n",
       " [],\n",
       " [],\n",
       " [],\n",
       " [],\n",
       " [],\n",
       " [],\n",
       " [],\n",
       " [],\n",
       " [],\n",
       " [],\n",
       " [],\n",
       " [],\n",
       " [],\n",
       " [],\n",
       " [],\n",
       " [],\n",
       " [],\n",
       " [],\n",
       " [],\n",
       " [],\n",
       " [],\n",
       " [],\n",
       " [],\n",
       " [],\n",
       " [],\n",
       " ([(786.0, 286.0), (651.0, 226.0), (602.0, 226.0), (495.0, 286.0)],\n",
       "  [1.0, 0.2]),\n",
       " [],\n",
       " [],\n",
       " [],\n",
       " [],\n",
       " [],\n",
       " ([(835.0, 272.0), (698.0, 168.0), (563.0, 168.0), (441.0, 272.0)],\n",
       "  [1.2, 0.6]),\n",
       " [],\n",
       " [],\n",
       " [],\n",
       " ([(757.0, 299.0), (660.0, 229.0), (592.0, 229.0), (466.0, 299.0)],\n",
       "  [1.0, 0.3]),\n",
       " [],\n",
       " [],\n",
       " [],\n",
       " [],\n",
       " [],\n",
       " [],\n",
       " [],\n",
       " [],\n",
       " [],\n",
       " [],\n",
       " [],\n",
       " [],\n",
       " [],\n",
       " [],\n",
       " [],\n",
       " [],\n",
       " [],\n",
       " [],\n",
       " [],\n",
       " [],\n",
       " [],\n",
       " [],\n",
       " [],\n",
       " [],\n",
       " [],\n",
       " [],\n",
       " [],\n",
       " [],\n",
       " [],\n",
       " [],\n",
       " [],\n",
       " [],\n",
       " [],\n",
       " [],\n",
       " [],\n",
       " [],\n",
       " [],\n",
       " [],\n",
       " [],\n",
       " [],\n",
       " [],\n",
       " [],\n",
       " [],\n",
       " [],\n",
       " [],\n",
       " [],\n",
       " [],\n",
       " [],\n",
       " [],\n",
       " [],\n",
       " [],\n",
       " [],\n",
       " [],\n",
       " [],\n",
       " [],\n",
       " [],\n",
       " [],\n",
       " [],\n",
       " [],\n",
       " [],\n",
       " [],\n",
       " [],\n",
       " [],\n",
       " [],\n",
       " [],\n",
       " [],\n",
       " [],\n",
       " [],\n",
       " [],\n",
       " [],\n",
       " [],\n",
       " [],\n",
       " [],\n",
       " [],\n",
       " [],\n",
       " [],\n",
       " [],\n",
       " [],\n",
       " [],\n",
       " [],\n",
       " [],\n",
       " [],\n",
       " [],\n",
       " [],\n",
       " [],\n",
       " [],\n",
       " [],\n",
       " [],\n",
       " [],\n",
       " [],\n",
       " [],\n",
       " [],\n",
       " [],\n",
       " [],\n",
       " [],\n",
       " [],\n",
       " [],\n",
       " [],\n",
       " [],\n",
       " [],\n",
       " [],\n",
       " [],\n",
       " [],\n",
       " [],\n",
       " [],\n",
       " [],\n",
       " [],\n",
       " [],\n",
       " [],\n",
       " [],\n",
       " [],\n",
       " [],\n",
       " [],\n",
       " [],\n",
       " [],\n",
       " [],\n",
       " [],\n",
       " [],\n",
       " [],\n",
       " [],\n",
       " [],\n",
       " [],\n",
       " [],\n",
       " [],\n",
       " [],\n",
       " [],\n",
       " [],\n",
       " [],\n",
       " [],\n",
       " [],\n",
       " [],\n",
       " [],\n",
       " [],\n",
       " [],\n",
       " [],\n",
       " []]"
      ]
     },
     "execution_count": 12,
     "metadata": {},
     "output_type": "execute_result"
    }
   ],
   "source": [
    "configs"
   ]
  },
  {
   "cell_type": "code",
   "execution_count": null,
   "metadata": {
    "collapsed": true
   },
   "outputs": [],
   "source": []
  }
 ],
 "metadata": {
  "kernelspec": {
   "display_name": "Python 2",
   "language": "python",
   "name": "python2"
  },
  "language_info": {
   "codemirror_mode": {
    "name": "ipython",
    "version": 2
   },
   "file_extension": ".py",
   "mimetype": "text/x-python",
   "name": "python",
   "nbconvert_exporter": "python",
   "pygments_lexer": "ipython2",
   "version": "2.7.13"
  }
 },
 "nbformat": 4,
 "nbformat_minor": 2
}
