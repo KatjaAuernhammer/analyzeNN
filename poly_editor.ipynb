{
 "cells": [
  {
   "cell_type": "code",
   "execution_count": 1,
   "metadata": {
    "collapsed": true,
    "deletable": true,
    "editable": true
   },
   "outputs": [],
   "source": [
    "from __future__ import print_function\n",
    "from ipywidgets import interact, interactive, fixed, interact_manual\n",
    "import ipywidgets as widgets\n",
    "from ipywidgets import FloatSlider\n",
    "\n",
    "from PIL import Image, ImageFilter\n",
    "import PIL\n",
    "from IPython import display\n",
    "\n",
    "from matplotlib.pyplot import imshow\n",
    "%matplotlib inline\n",
    "\n",
    "import pickle"
   ]
  },
  {
   "cell_type": "code",
   "execution_count": 2,
   "metadata": {
    "collapsed": true,
    "deletable": true,
    "editable": true
   },
   "outputs": [],
   "source": [
    "from gen_pic_utils import *\n",
    "import populate_library"
   ]
  },
  {
   "cell_type": "markdown",
   "metadata": {
    "deletable": true,
    "editable": true
   },
   "source": [
    "## Select road type"
   ]
  },
  {
   "cell_type": "code",
   "execution_count": 78,
   "metadata": {
    "collapsed": true,
    "deletable": true,
    "editable": true
   },
   "outputs": [],
   "source": [
    "road_type = 58  "
   ]
  },
  {
   "cell_type": "code",
   "execution_count": 94,
   "metadata": {
    "collapsed": false,
    "deletable": true,
    "editable": true
   },
   "outputs": [],
   "source": [
    "def save(filename,data):\n",
    "    with open(filename, 'w+') as f:\n",
    "        pickle.dump(data, f)\n",
    "        \n",
    "def load(filename):\n",
    "    with open(filename, 'rb') as f:\n",
    "        return pickle.load(f)"
   ]
  },
  {
   "cell_type": "code",
   "execution_count": 168,
   "metadata": {
    "collapsed": false
   },
   "outputs": [],
   "source": [
    "poly_verts = 5\n",
    "polygon = []\n",
    "for i in range(0,poly_verts):\n",
    "    polygon.append((1,1))\n",
    "    \n",
    "# Slider parameters\n",
    "point_widget = FloatSlider(min=0, max=poly_verts-1, step=1, value=0)\n",
    "x_widget = FloatSlider(min=1, max=1242, step=1)\n",
    "y_widget = FloatSlider(min=1, max=375, step=1)\n",
    "\n",
    "def update_car_conf_widgets(*args):\n",
    "    (x,y) = polygon[int(point_widget.value)]\n",
    "    x_widget.value = x\n",
    "    y_widget.value = y\n",
    "    \n",
    "point_widget.observe(update_car_conf_widgets, 'value')\n",
    "\n",
    "def update_point_widgets(point,x,y):\n",
    "    polygon[int(point_widget.value)] = (x_widget.value,y_widget.value)\n",
    "    \n",
    "    lib = populate_library.populateLibrary()     \n",
    "        \n",
    "    road = lib.getElement(\"roads\", 57) \n",
    "    draw = ImageDraw.Draw(road.data)\n",
    "    \n",
    "    draw_circle(draw,x,y)\n",
    "    draw.polygon(polygon, fill=None, outline=(255,0,0,255))      \n",
    "        \n",
    "    display.display(road.data)\n",
    "    "
   ]
  },
  {
   "cell_type": "code",
   "execution_count": 169,
   "metadata": {
    "collapsed": false
   },
   "outputs": [
    {
     "data": {
      "application/vnd.jupyter.widget-view+json": {
       "model_id": "2e96cbe2d14f4e7bba3e1c4c3ce07885"
      }
     },
     "metadata": {},
     "output_type": "display_data"
    }
   ],
   "source": [
    "interact(update_point_widgets,point=point_widget, x=x_widget, y=y_widget);"
   ]
  },
  {
   "cell_type": "code",
   "execution_count": 188,
   "metadata": {
    "collapsed": false
   },
   "outputs": [],
   "source": [
    "polygons = load('polygons')\n",
    "polygons[road_type] = polygon\n",
    "save('polygons',polygons)"
   ]
  }
 ],
 "metadata": {
  "kernelspec": {
   "display_name": "Python 2",
   "language": "python",
   "name": "python2"
  },
  "language_info": {
   "codemirror_mode": {
    "name": "ipython",
    "version": 2
   },
   "file_extension": ".py",
   "mimetype": "text/x-python",
   "name": "python",
   "nbconvert_exporter": "python",
   "pygments_lexer": "ipython2",
   "version": "2.7.13"
  }
 },
 "nbformat": 4,
 "nbformat_minor": 2
}
