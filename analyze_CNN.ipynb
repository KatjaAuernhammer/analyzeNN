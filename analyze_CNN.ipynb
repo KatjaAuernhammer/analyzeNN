{
 "cells": [
  {
   "cell_type": "code",
   "execution_count": 6,
   "metadata": {},
   "outputs": [],
   "source": [
    "from __future__ import print_function\n",
    "from ipywidgets import interact, interactive, fixed, interact_manual\n",
    "import ipywidgets as widgets\n",
    "\n",
    "from PIL import Image, ImageFilter\n",
    "from IPython import display\n",
    "\n",
    "import numpy as np\n",
    "\n",
    "from matplotlib.pyplot import imshow\n",
    "%matplotlib inline"
   ]
  },
  {
   "cell_type": "code",
   "execution_count": 7,
   "metadata": {},
   "outputs": [
    {
     "name": "stdout",
     "output_type": "stream",
     "text": [
      "INFO:tensorflow:Summary name mean iou is illegal; using mean_iou instead.\n",
      "INFO:tensorflow:Restoring parameters from ./squeezeDet/data/model_checkpoints/squeezeDet/model.ckpt-87000\n"
     ]
    }
   ],
   "source": [
    "import squeezedet as nn\n",
    "net = nn.init()"
   ]
  },
  {
   "cell_type": "code",
   "execution_count": 8,
   "metadata": {},
   "outputs": [],
   "source": [
    "from gen_pic_utils import *\n",
    "import populate_library\n",
    "\n",
    "lib = populate_library.populateLibrary()"
   ]
  },
  {
   "cell_type": "code",
   "execution_count": 9,
   "metadata": {
    "scrolled": true
   },
   "outputs": [
    {
     "data": {
      "application/vnd.jupyter.widget-view+json": {
       "model_id": "81fb08aaf83f405191abcacc2d9aaa2b",
       "version_major": 2,
       "version_minor": 0
      },
      "text/html": [
       "<p>Failed to display Jupyter Widget of type <code>interactive</code>.</p>\n",
       "<p>\n",
       "  If you're reading this message in Jupyter Notebook or JupyterLab, it may mean\n",
       "  that the widgets JavaScript is still loading. If this message persists, it\n",
       "  likely means that the widgets JavaScript library is either not installed or\n",
       "  not enabled. See the <a href=\"https://ipywidgets.readthedocs.io/en/stable/user_install.html\">Jupyter\n",
       "  Widgets Documentation</a> for setup instructions.\n",
       "</p>\n",
       "<p>\n",
       "  If you're reading this message in another notebook frontend (for example, a static\n",
       "  rendering on GitHub or <a href=\"https://nbviewer.jupyter.org/\">NBViewer</a>),\n",
       "  it may mean that your frontend doesn't currently support widgets.\n",
       "</p>\n"
      ],
      "text/plain": [
       "interactive(children=(IntSlider(value=8, description=u'car', max=11, min=7), IntSlider(value=56, description=u'road', max=61, min=56), FloatSlider(value=0.5, description=u'x', max=1.0, step=0.01), FloatSlider(value=0.0, description=u'y', max=1.0, step=0.01), FloatSlider(value=1.0, description=u'color', max=2.0, step=0.01), FloatSlider(value=1.0, description=u'contrast', max=2.0, step=0.01), FloatSlider(value=1.0, description=u'brightness', max=2.0, step=0.01), FloatSlider(value=1.0, description=u'sharpness', max=2.0, step=0.01), Output()), _dom_classes=('widget-interact',))"
      ]
     },
     "metadata": {},
     "output_type": "display_data"
    }
   ],
   "source": [
    "def print_pred((boxes,probs,cats),gt_box):\n",
    "    print('Class | Score | IOU')\n",
    "    for box,prob,cat in zip(boxes,probs,cats):\n",
    "        out = str(cat) + ' | ' + str(prob) + ' | '\n",
    "        if cat == 0:\n",
    "            out += str(nn.iou(box,gt_box))\n",
    "        print(out)\n",
    "\n",
    "def test_image(car,road,x,y,color,contrast,brightness,sharpness):\n",
    "    box, image = generatePicture(lib, [x,y,color,contrast, brightness, sharpness], 'test.png', road, car)\n",
    "    pred = nn.classify('./test.png',net) \n",
    "    display.display(Image.open(\"tmp.png\"))\n",
    "    print_pred(pred,box)\n",
    "    \n",
    "@interact(car=(7,11,1),road=(56,61,1),x=(0,1,0.01), y=(0,1,0.01), color=(0,2,0.01), contrast=(0,2,0.01), brightness=(0,2,0.01), sharpness=(0,2,0.01))\n",
    "def analyze(car=8,road=56,x=0.5, y=0,color=1,contrast=1,brightness=1,sharpness=1):\n",
    "    return test_image(car,road,x,y,color,contrast,brightness,sharpness)"
   ]
  }
 ],
 "metadata": {
  "kernelspec": {
   "display_name": "Python 2",
   "language": "python",
   "name": "python2"
  },
  "language_info": {
   "codemirror_mode": {
    "name": "ipython",
    "version": 2
   },
   "file_extension": ".py",
   "mimetype": "text/x-python",
   "name": "python",
   "nbconvert_exporter": "python",
   "pygments_lexer": "ipython2",
   "version": "2.7.13"
  }
 },
 "nbformat": 4,
 "nbformat_minor": 2
}
