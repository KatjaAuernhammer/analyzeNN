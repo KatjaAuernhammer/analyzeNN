{
 "cells": [
  {
   "cell_type": "code",
   "execution_count": 1,
   "metadata": {
    "collapsed": true,
    "deletable": true,
    "editable": true
   },
   "outputs": [],
   "source": [
    "from __future__ import print_function\n",
    "from ipywidgets import interact, interactive, fixed, interact_manual\n",
    "import ipywidgets as widgets\n",
    "\n",
    "from PIL import Image, ImageFilter\n",
    "from IPython import display\n",
    "\n",
    "from matplotlib.pyplot import imshow\n",
    "%matplotlib inline"
   ]
  },
  {
   "cell_type": "code",
   "execution_count": 2,
   "metadata": {
    "collapsed": false,
    "deletable": true,
    "editable": true
   },
   "outputs": [
    {
     "name": "stdout",
     "output_type": "stream",
     "text": [
      "INFO:tensorflow:Summary name mean iou is illegal; using mean_iou instead.\n"
     ]
    }
   ],
   "source": [
    "import squeezedet as nn\n",
    "net = nn.init()"
   ]
  },
  {
   "cell_type": "code",
   "execution_count": 3,
   "metadata": {
    "collapsed": false,
    "deletable": true,
    "editable": true
   },
   "outputs": [],
   "source": [
    "from gen_pic_utils import *\n",
    "import populate_library\n",
    "\n",
    "lib = populate_library.populateLibrary()"
   ]
  },
  {
   "cell_type": "code",
   "execution_count": 4,
   "metadata": {
    "collapsed": false,
    "deletable": true,
    "editable": true
   },
   "outputs": [
    {
     "data": {
      "application/vnd.jupyter.widget-view+json": {
       "model_id": "7364ca8f9e6b4a52aecbcdead7c2ef4f"
      }
     },
     "metadata": {},
     "output_type": "display_data"
    }
   ],
   "source": [
    "def print_pred((boxes,probs,cats),gt_box):\n",
    "    print('Class | Score | IOU')\n",
    "    for box,prob,cat in zip(boxes,probs,cats):\n",
    "        out = str(cat) + ' | ' + str(prob) + ' | '\n",
    "        if cat == 0:\n",
    "            out += str(nn.iou(box,gt_box))\n",
    "        print(out)\n",
    "\n",
    "def test_image(car,road,x,y,color,contrast,brightness,sharpness):\n",
    "    box, image = generatePicture(lib, [x,y,color,contrast, brightness, sharpness], 'test.png', road, car)\n",
    "    pred = nn.classify('./test.png',net) \n",
    "    display.display(Image.open(\"tmp.png\"))\n",
    "    print_pred(pred,box)\n",
    "    \n",
    "@interact(car=(7,11,1),road=(56,61,1),x=(0,1,0.01), y=(0,1,0.01), color=(0,2,0.01), contrast=(0,2,0.01), brightness=(0,2,0.01), sharpness=(0,2,0.01))\n",
    "def analyze(car=8,road=56,x=0.5, y=0,color=1,contrast=1,brightness=1,sharpness=1):\n",
    "    return test_image(car,road,x,y,color,contrast,brightness,sharpness)"
   ]
  },
  {
   "cell_type": "code",
   "execution_count": null,
   "metadata": {
    "collapsed": true,
    "deletable": true,
    "editable": true
   },
   "outputs": [],
   "source": []
  },
  {
   "cell_type": "code",
   "execution_count": null,
   "metadata": {
    "collapsed": true,
    "deletable": true,
    "editable": true
   },
   "outputs": [],
   "source": []
  }
 ],
 "metadata": {
  "kernelspec": {
   "display_name": "Python 2",
   "language": "python",
   "name": "python2"
  },
  "language_info": {
   "codemirror_mode": {
    "name": "ipython",
    "version": 2
   },
   "file_extension": ".py",
   "mimetype": "text/x-python",
   "name": "python",
   "nbconvert_exporter": "python",
   "pygments_lexer": "ipython2",
   "version": "2.7.13"
  }
 },
 "nbformat": 4,
 "nbformat_minor": 2
}
