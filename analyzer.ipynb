{
 "cells": [
  {
   "cell_type": "code",
   "execution_count": 1,
   "metadata": {},
   "outputs": [],
   "source": [
    "import random\n",
    "from random import shuffle\n",
    "\n",
    "from PIL import Image, ImageFilter\n",
    "from IPython import display\n",
    "\n",
    "from matplotlib.pyplot import imshow\n",
    "%matplotlib inline\n",
    "\n",
    "import pickle\n",
    "import time\n",
    "\n",
    "from sampling_utils import *\n",
    "from gen_utils import *\n",
    "from kd_tree import KDTree"
   ]
  },
  {
   "cell_type": "code",
   "execution_count": 2,
   "metadata": {},
   "outputs": [
    {
     "name": "stdout",
     "output_type": "stream",
     "text": [
      "INFO:tensorflow:Summary name mean iou is illegal; using mean_iou instead.\n",
      "INFO:tensorflow:Restoring parameters from /home/xyyue/checkpoint/final/model.ckpt-5000\n"
     ]
    }
   ],
   "source": [
    "num_pics = 5\n",
    "\n",
    "min_num_cars = 1\n",
    "max_num_cars = 3\n",
    "\n",
    "domains = [[52,72],[1,19],[0,1],[0.35,1],[0.5,1.5],[0.25,1],[0.5,1],[0.5,1]]\n",
    "types = ['int','int','float','float','float','float','float','float']\n",
    "\n",
    "gen_misclass = True\n",
    "store_kd_tree = True\n",
    "store_err_tab = True\n",
    "\n",
    "IOMIN_THRESH = 0.5\n",
    "IOU_THRESH = 0.5\n",
    "\n",
    "if gen_misclass:\n",
    "    checkpoint = '/home/xyyue/checkpoint/final/model.ckpt-5000'\n",
    "    import squeezedet as nn\n",
    "    net = nn.init(checkpoint)"
   ]
  },
  {
   "cell_type": "code",
   "execution_count": 3,
   "metadata": {},
   "outputs": [],
   "source": [
    "# Init data structure\n",
    "if store_err_tab:\n",
    "    err_table = error_table()\n",
    "if store_kd_tree:\n",
    "    tree = KDTree()\n",
    "\n",
    "for j in range(min_num_cars,max_num_cars):\n",
    "    \n",
    "    path_data_set = './data/test/'\n",
    "    #path_data_set = './data/misclass_2/' + str(j) + '/'\n",
    "    #path_data_set = './data/misclass_err_table/' + str(j) + '/'\n",
    "    \n",
    "    \n",
    "    i = 1\n",
    "    v = 1\n",
    "\n",
    "    while i < num_pics:\n",
    "\n",
    "        # Sample configuration\n",
    "        #num_cars = random.randint(min_num_cars, max_num_cars)\n",
    "        num_cars = j\n",
    "        sample_dims = [1,num_cars,num_cars,num_cars,1,1,1,1]\n",
    "        sample, norm_sample = get_sample(v, 'random', types=types, domains=domains, dims=sample_dims)\n",
    "        sample[3].sort(reverse=True)\n",
    "        norm_sample[3].sort(reverse=True)\n",
    "        \n",
    "        good_sample = True\n",
    "        # Check sample distance from stored ones\n",
    "        if store_kd_tree:\n",
    "            good_sample, dist = tree.esp_distant(norm_sample,eps=0.1,add=True)\n",
    "            \n",
    "        if good_sample:\n",
    "            # Generate image from sample\n",
    "            img, ground_boxes, img_info = gen_image(sample)\n",
    "\n",
    "            # Is it a good picture? (cars don't overlap too much)\n",
    "            save_img = True\n",
    "            for m in range(len(ground_boxes)):\n",
    "                for n in range(m+1, len(ground_boxes)):\n",
    "                    #print(iomin(ground_boxes[m], ground_boxes[n]))\n",
    "                    if iomin(ground_boxes[m], ground_boxes[n]) > IOMIN_THRESH:\n",
    "                        save_img = False\n",
    "\n",
    "            # Check misclassification\n",
    "            if gen_misclass and save_img:\n",
    "                # Save tmp image    \n",
    "                tmp_img_file_name = './tmp.png'\n",
    "                img.save(tmp_img_file_name)\n",
    "\n",
    "#                 # Classify img\n",
    "#                 (boxes,probs,cats) = nn.classify(tmp_img_file_name,net) \n",
    "                \n",
    "#                 print probs\n",
    "\n",
    "#                 save_img = False\n",
    "\n",
    "#                 # Not cars\n",
    "#                 if any(cats):\n",
    "#                     save_img = True\n",
    "#                 else:\n",
    "#                     all_good_boxes = True\n",
    "#                     for ground_box in ground_boxes:\n",
    "#                         found_good_box = False\n",
    "#                         for box, prob in zip(boxes, probs):    \n",
    "#                             found_good_box = found_good_box or ((iou(ground_box, box) > IOU_THRESH) and prob > 0.5)\n",
    "#                         all_good_boxes = all_good_boxes and found_good_box\n",
    "#                     save_img = not(all_good_boxes)\n",
    "\n",
    "            if save_img:\n",
    "                file_name = 'm_' + str(j) + '_' + str(i).zfill(6)\n",
    "\n",
    "                # Save data\n",
    "                save_image(img, file_name, path_data_set)\n",
    "                save_label(ground_boxes, file_name, path_data_set)\n",
    "                \n",
    "                if store_err_tab:\n",
    "                    err_table.update_with_elem(img_info)\n",
    "                    \n",
    "                i+=1\n",
    "            v+=1\n",
    "\n",
    "        if(v %50 == 0):\n",
    "            print('i: ' + str(i) + ' ' + 'v: ' + str(v))\n",
    "        \n",
    "store_err_tab\n",
    "# err_table_file = open('error_table' + str(),'w')\n",
    "# pickle.dump(err_table,err_table_file)\n",
    "# err_table_file.close()\n",
    "\n",
    "\n",
    "if store_err_tab:\n",
    "    err_table_file = open(path_data_set + 'error_table' + str(),'w')\n",
    "    pickle.dump(err_table,err_table_file)\n",
    "    err_table_file.close()\n",
    "    \n",
    "if store_kd_tree:\n",
    "    kd_tree_file = open(path_data_set + 'kd_tree' + str(),'w')\n",
    "    pickle.dump(tree,kd_tree_file)\n",
    "    kd_tree_file.close()"
   ]
  },
  {
   "cell_type": "code",
   "execution_count": 4,
   "metadata": {},
   "outputs": [
    {
     "name": "stdout",
     "output_type": "stream",
     "text": [
      "INFO:tensorflow:Summary name mean iou is illegal; using mean_iou instead.\n",
      "INFO:tensorflow:Restoring parameters from /home/xyyue/checkpoint/final/model.ckpt-5000\n"
     ]
    }
   ],
   "source": [
    "import squeezedet as nn\n",
    "checkpoint = '/home/xyyue/checkpoint/final/model.ckpt-5000'\n",
    "net = nn.init(checkpoint)"
   ]
  },
  {
   "cell_type": "code",
   "execution_count": null,
   "metadata": {},
   "outputs": [],
   "source": [
    "nn.classify('/home/tommaso/analyzeNN/data/test/images/m_2_000001.png',net)"
   ]
  },
  {
   "cell_type": "code",
   "execution_count": null,
   "metadata": {},
   "outputs": [],
   "source": []
  }
 ],
 "metadata": {
  "anaconda-cloud": {},
  "kernelspec": {
   "display_name": "Python 2",
   "language": "python",
   "name": "python2"
  },
  "language_info": {
   "codemirror_mode": {
    "name": "ipython",
    "version": 2
   },
   "file_extension": ".py",
   "mimetype": "text/x-python",
   "name": "python",
   "nbconvert_exporter": "python",
   "pygments_lexer": "ipython2",
   "version": "2.7.13"
  }
 },
 "nbformat": 4,
 "nbformat_minor": 2
}
