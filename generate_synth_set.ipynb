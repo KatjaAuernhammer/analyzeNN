{
 "cells": [
  {
   "cell_type": "code",
   "execution_count": 1,
   "metadata": {},
   "outputs": [
    {
     "name": "stdout",
     "output_type": "stream",
     "text": [
      "Please update object with bounding box\n",
      "Please update object with bounding box\n",
      "Please update object with bounding box\n",
      "Please update object with bounding box\n",
      "Please update object with bounding box\n",
      "Please update object with bounding box\n",
      "Please update object with bounding box\n",
      "Please update object with bounding box\n",
      "Please update object with bounding box\n",
      "Please update object with bounding box\n",
      "Please update object with bounding box\n",
      "Please update object with bounding box\n",
      "Please update object with bounding box\n",
      "Please update object with bounding box\n",
      "Please update object with bounding box\n",
      "Please update object with bounding box\n",
      "Please update object with bounding box\n",
      "Please update object with bounding box\n",
      "Please update object with bounding box\n",
      "Please update object with bounding box\n",
      "Please update object with bounding box\n",
      "Please update object with bounding box\n",
      "Please update object with bounding box\n",
      "Please update object with bounding box\n",
      "Please update object with bounding box\n",
      "Please update object with bounding box\n",
      "Please update object with bounding box\n",
      "Please update object with bounding box\n",
      "Please update object with bounding box\n",
      "Please update object with bounding box\n",
      "Please update object with bounding box\n",
      "Please update object with bounding box\n",
      "Please update object with bounding box\n",
      "Please update object with bounding box\n",
      "Please update object with bounding box\n",
      "Please update object with bounding box\n",
      "Please update object with bounding box\n",
      "Please update object with bounding box\n",
      "Please update object with bounding box\n",
      "Please update object with bounding box\n",
      "Please update object with bounding box\n",
      "Please update object with bounding box\n",
      "Please update object with bounding box\n",
      "Please update object with bounding box\n",
      "Please update object with bounding box\n",
      "Please update object with bounding box\n",
      "Please update object with bounding box\n",
      "Please update object with bounding box\n",
      "Please update object with bounding box\n",
      "Please update object with bounding box\n",
      "Please update object with bounding box\n",
      "Please update object with bounding box\n"
     ]
    }
   ],
   "source": [
    "from cnn_image_generation import *\n",
    "from analysis_nn import *\n",
    "from update_library import *\n",
    "import random\n",
    "from random import shuffle\n",
    "\n",
    "from PIL import Image, ImageFilter\n",
    "from IPython import display\n",
    "\n",
    "from matplotlib.pyplot import imshow\n",
    "%matplotlib inline\n",
    "\n",
    "import pickle\n",
    "import time\n",
    "\n",
    "lib = update_library()"
   ]
  },
  {
   "cell_type": "code",
   "execution_count": 2,
   "metadata": {
    "scrolled": false
   },
   "outputs": [
    {
     "name": "stdout",
     "output_type": "stream",
     "text": [
      "INFO:tensorflow:Summary name mean iou is illegal; using mean_iou instead.\n",
      "INFO:tensorflow:Restoring parameters from /home/tommaso/Desktop/logs/SqueezeDet/train/model.ckpt-2000\n"
     ]
    }
   ],
   "source": [
    "import squeezedet as nn\n",
    "net = nn.init()"
   ]
  },
  {
   "cell_type": "code",
   "execution_count": 3,
   "metadata": {},
   "outputs": [],
   "source": [
    "num_pics = 4000\n",
    "# Sampling bounds (x,y)\n",
    "sample_dim = 6\n",
    "max_num_cars = 3\n",
    "# images_domain = [[52,72],[1,19]]\n",
    "images_domain = [[52,72],[1,19]]\n",
    "modification_domain = [[0,1],[0.35,1],[0.8,1.2],[0.7,1]]\n",
    "\n",
    "#path_synth_set = './synth/uniform/'\n",
    "#path_synth_set = './synth/uniform_misclass/'\n",
    "\n",
    "err_table = error_table()"
   ]
  },
  {
   "cell_type": "code",
   "execution_count": 4,
   "metadata": {},
   "outputs": [],
   "source": [
    "def scale_sample(sample, sampling_domain):\n",
    "    '''Scale a [0,1] sample in a given domain'''\n",
    "    for i in range(len(sample)):\n",
    "        sample[i] = sample[i]*(sampling_domain[i][1] - sampling_domain[i][0]) + sampling_domain[i][0]\n",
    "    return sample    \n",
    "\n",
    "\n",
    "\n",
    "def random_sample(typ, domain, n_samples):\n",
    "    \n",
    "    sample = []\n",
    "    for _ in range(n_samples):\n",
    "        if typ == 'float':\n",
    "            r = random.random()*(domain[1]-domain[0])+domain[0]\n",
    "        elif typ == 'int':\n",
    "            r = random.choice(range(domain[0],domain[1]))\n",
    "        else:\n",
    "            print('Error')\n",
    "        sample.append(r)    \n",
    "    return sample\n",
    "\n",
    "def random_config(domains, n_cars):\n",
    "#     print(\"domains is : \", domains)# [[52, 72], [1, 19], [0, 1], [0.35, 1], [0.8, 1.2], [0.7, 1]]\n",
    "#     print(\"n_cars is : \", n_cars)\n",
    "    # Scene and cars\n",
    "    sample = [random_sample('int',domains[0],1)]\n",
    "    sample += [random_sample('int',domains[1],n_cars)]\n",
    "    # Modifications\n",
    "    x_sample = []\n",
    "    y_sample = []\n",
    "    if n_cars > 0:\n",
    "        step_x = float(domains[2][1])/n_cars\n",
    "        step_y = float(domains[3][1])/n_cars\n",
    "\n",
    "        base_x = 0\n",
    "        base_y = 0\n",
    "        for _ in range(n_cars):\n",
    "            x_sample.append(random.uniform(base_x, base_x+step_x))\n",
    "            y_sample.append(random.uniform(base_y, base_y+step_y))\n",
    "            base_x += step_x    \n",
    "            base_y += step_y\n",
    "            \n",
    "    shuffle(x_sample)    \n",
    "    y_sample.sort(reverse=True)\n",
    "    sample += [x_sample]\n",
    "    sample += [y_sample]\n",
    "\n",
    "    sample += [random_sample('float',domains[4],1)]\n",
    "    sample += [random_sample('float',domains[5],1)]\n",
    "    \n",
    "    return sample    \n",
    "    \n",
    "\n",
    "def box_2_kitti_format(box):\n",
    "    '''Transform box for KITTI label format'''\n",
    "    x = box[0]\n",
    "    y = box[1]\n",
    "    w = box[2]\n",
    "    h = box[3]\n",
    "    left = int(x - w/2)\n",
    "    right = int(x + w/2)\n",
    "    top = int(y - h/2)\n",
    "    bot = int(y + h/2)\n",
    "    return [left,top,right,bot]"
   ]
  },
  {
   "cell_type": "code",
   "execution_count": 5,
   "metadata": {},
   "outputs": [
    {
     "name": "stdout",
     "output_type": "stream",
     "text": [
      "Generating 2000/10000/20\n"
     ]
    },
    {
     "ename": "TypeError",
     "evalue": "gen_comp_img() got an unexpected keyword argument 'fg_id'",
     "output_type": "error",
     "traceback": [
      "\u001b[0;31m---------------------------------------------------------------------------\u001b[0m",
      "\u001b[0;31mTypeError\u001b[0m                                 Traceback (most recent call last)",
      "\u001b[0;32m<ipython-input-5-0efc521f6ddd>\u001b[0m in \u001b[0;36m<module>\u001b[0;34m()\u001b[0m\n\u001b[1;32m     20\u001b[0m                 \u001b[0msample\u001b[0m \u001b[0;34m=\u001b[0m \u001b[0mrandom_config\u001b[0m\u001b[0;34m(\u001b[0m\u001b[0mimages_domain\u001b[0m \u001b[0;34m+\u001b[0m \u001b[0mmodification_domain\u001b[0m\u001b[0;34m,\u001b[0m \u001b[0mnum_cars\u001b[0m\u001b[0;34m)\u001b[0m\u001b[0;34m\u001b[0m\u001b[0m\n\u001b[1;32m     21\u001b[0m \u001b[0;34m\u001b[0m\u001b[0m\n\u001b[0;32m---> 22\u001b[0;31m                 \u001b[0mimg\u001b[0m\u001b[0;34m,\u001b[0m \u001b[0mground_boxes\u001b[0m\u001b[0;34m,\u001b[0m \u001b[0mimg_info\u001b[0m \u001b[0;34m=\u001b[0m \u001b[0mgen_comp_img\u001b[0m\u001b[0;34m(\u001b[0m\u001b[0mlib\u001b[0m\u001b[0;34m,\u001b[0m \u001b[0mbg_id\u001b[0m\u001b[0;34m=\u001b[0m\u001b[0msample\u001b[0m\u001b[0;34m[\u001b[0m\u001b[0;36m0\u001b[0m\u001b[0;34m]\u001b[0m\u001b[0;34m[\u001b[0m\u001b[0;36m0\u001b[0m\u001b[0;34m]\u001b[0m\u001b[0;34m,\u001b[0m \u001b[0mfg_id\u001b[0m\u001b[0;34m=\u001b[0m\u001b[0msample\u001b[0m\u001b[0;34m[\u001b[0m\u001b[0;36m1\u001b[0m\u001b[0;34m]\u001b[0m\u001b[0;34m,\u001b[0m \u001b[0mx\u001b[0m\u001b[0;34m=\u001b[0m\u001b[0msample\u001b[0m\u001b[0;34m[\u001b[0m\u001b[0;36m2\u001b[0m\u001b[0;34m]\u001b[0m\u001b[0;34m,\u001b[0m \u001b[0my\u001b[0m\u001b[0;34m=\u001b[0m\u001b[0msample\u001b[0m\u001b[0;34m[\u001b[0m\u001b[0;36m3\u001b[0m\u001b[0;34m]\u001b[0m\u001b[0;34m,\u001b[0m \u001b[0mbrightness\u001b[0m\u001b[0;34m=\u001b[0m\u001b[0msample\u001b[0m\u001b[0;34m[\u001b[0m\u001b[0;36m4\u001b[0m\u001b[0;34m]\u001b[0m\u001b[0;34m[\u001b[0m\u001b[0;36m0\u001b[0m\u001b[0;34m]\u001b[0m\u001b[0;34m,\u001b[0m \u001b[0mcolor\u001b[0m\u001b[0;34m=\u001b[0m\u001b[0msample\u001b[0m\u001b[0;34m[\u001b[0m\u001b[0;36m5\u001b[0m\u001b[0;34m]\u001b[0m\u001b[0;34m[\u001b[0m\u001b[0;36m0\u001b[0m\u001b[0;34m]\u001b[0m\u001b[0;34m)\u001b[0m\u001b[0;34m\u001b[0m\u001b[0m\n\u001b[0m\u001b[1;32m     23\u001b[0m \u001b[0;34m\u001b[0m\u001b[0m\n\u001b[1;32m     24\u001b[0m                 \u001b[0;31m# Save tmp image\u001b[0m\u001b[0;34m\u001b[0m\u001b[0;34m\u001b[0m\u001b[0m\n",
      "\u001b[0;31mTypeError\u001b[0m: gen_comp_img() got an unexpected keyword argument 'fg_id'"
     ]
    }
   ],
   "source": [
    "for batch in range(10000,11000,1000):\n",
    "    \n",
    "    for ratio in range(20,25,5):\n",
    "        \n",
    "        num_pics = batch/100*ratio\n",
    "        path_synth_set = './synth/' + str(1500) + '/'\n",
    "        \n",
    "        print('Generating ' + str(num_pics) + '/' + str(batch) + '/' + str(ratio))\n",
    "\n",
    "        i = 0\n",
    "        v = 0\n",
    "\n",
    "#         while i < num_pics:\n",
    "        while i < 5000:\n",
    "\n",
    "            num_cars = random.randint(1, max_num_cars)\n",
    "            save_img = False\n",
    "            try_num = 0\n",
    "            while (not save_img) and (try_num < 25):\n",
    "                sample = random_config(images_domain + modification_domain, num_cars)\n",
    "\n",
    "                img, ground_boxes, img_info = gen_comp_img(lib, bg_id=sample[0][0], fg_id=sample[1], x=sample[2], y=sample[3], brightness=sample[4][0], color=sample[5][0])\n",
    "\n",
    "                # Save tmp image    \n",
    "\n",
    "    #             tmp_img_file_name = './tmp.png'\n",
    "    #             img.save(tmp_img_file_name)\n",
    "\n",
    "    #             # Classify img\n",
    "    #             (boxes,probs,cats) = nn.classify(tmp_img_file_name,net) \n",
    "\n",
    "                save_img = True\n",
    "                for m in range(len(ground_boxes)):\n",
    "                    for n in range(m+1, len(ground_boxes)):\n",
    "                        if nn.iomin(ground_boxes[m], ground_boxes[n]) > 0.4:\n",
    "    #                         print(\"BAD\")\n",
    "                            save_img = False\n",
    "                try_num += 1\n",
    "                        \n",
    "                    \n",
    "#             # Not cars\n",
    "#             if any(cats):\n",
    "#                 save_img = True\n",
    "#             else:\n",
    "#                 for ground_box in ground_boxes:\n",
    "#                     for box, prob in zip(boxes, probs):\n",
    "#                         if( nn.iou(ground_box, box)*prob) < 0.25:\n",
    "#                             save_img = True\n",
    "            \n",
    "            if save_img:\n",
    "                file_name = 'm' + str(i).zfill(6)\n",
    "\n",
    "                # Save image\n",
    "                img_file_name = path_synth_set + 'images/' + file_name + '.png'\n",
    "                img.save(img_file_name)\n",
    "#                 print(\"Saving to \", img_file_name)\n",
    "\n",
    "                # Save label\n",
    "                f = open(path_synth_set + 'labels/' + file_name + '.txt', 'w')\n",
    "\n",
    "                if len(ground_boxes) > 0:\n",
    "                    for box in ground_boxes[:-1]:\n",
    "                        label = [0,0,0] + box_2_kitti_format(box) + [0,0,0,0,0,0,0]\n",
    "                        label = list(map(str, label))\n",
    "                        label = \" \".join(label)\n",
    "                        label  = \"Car \" + label + \"\\n\"\n",
    "                        f.write(label)  # python will convert \\n to os.linesep\n",
    "                    label = [0,0,0] + box_2_kitti_format(ground_boxes[-1]) + [0,0,0,0,0,0,0]\n",
    "                    label = list(map(str, label))\n",
    "                    label = \" \".join(label)\n",
    "                    label  = \"Car \" + label\n",
    "                    f.write(label)  # python will convert \\n to os.linesep\n",
    "                f.close()\n",
    "\n",
    "        # #         err_table.update_with_elem(img_info)\n",
    "\n",
    "                i+=1\n",
    "            v+=1\n",
    "\n",
    "            if(v %50 == 0):\n",
    "                print('i: ' + str(i) + '/' + 'h: ' + str(float(i)/float(v)))"
   ]
  },
  {
   "cell_type": "code",
   "execution_count": 102,
   "metadata": {},
   "outputs": [],
   "source": [
    "def gen_image_set(n, k):\n",
    "    im_set = random.sample(range(0,n),  k)\n",
    "    with open('3000_005.txt',\"w\") as fw:\n",
    "        for im in im_set:\n",
    "            fw.write('m' + str(im).zfill(6) + \"\\n\")    "
   ]
  },
  {
   "cell_type": "code",
   "execution_count": 21,
   "metadata": {},
   "outputs": [
    {
     "name": "stdout",
     "output_type": "stream",
     "text": [
      "hello\n",
      "hello\n",
      "hello\n",
      "hello\n",
      "hello\n",
      "hello\n",
      "hello\n",
      "hello\n"
     ]
    }
   ],
   "source": [
    "lst = list(range(0,10000))\n",
    "\n",
    "for m in range(3000,11000,1000):\n",
    "        \n",
    "    random.shuffle(lst)\n",
    "    train_set = lst[0:m]\n",
    "    \n",
    "    file_name = \"train_\" + str(m) + '_' + '0.txt'\n",
    "    \n",
    "    with open(file_name,\"w\") as fw:\n",
    "        for x in train_set:\n",
    "            fw.write(str(x).zfill(6) + \"\\n\")"
   ]
  },
  {
   "cell_type": "code",
   "execution_count": 24,
   "metadata": {
    "collapsed": true
   },
   "outputs": [],
   "source": [
    "gen_image_set(num_pics,600)"
   ]
  },
  {
   "cell_type": "code",
   "execution_count": 1,
   "metadata": {},
   "outputs": [
    {
     "ename": "NameError",
     "evalue": "name 'sample' is not defined",
     "output_type": "error",
     "traceback": [
      "\u001b[0;31m---------------------------------------------------------------------------\u001b[0m",
      "\u001b[0;31mNameError\u001b[0m                                 Traceback (most recent call last)",
      "\u001b[0;32m<ipython-input-1-5f34ec0bfeac>\u001b[0m in \u001b[0;36m<module>\u001b[0;34m()\u001b[0m\n\u001b[0;32m----> 1\u001b[0;31m \u001b[0msample\u001b[0m\u001b[0;34m\u001b[0m\u001b[0m\n\u001b[0m",
      "\u001b[0;31mNameError\u001b[0m: name 'sample' is not defined"
     ]
    }
   ],
   "source": [
    "sample"
   ]
  },
  {
   "cell_type": "code",
   "execution_count": 44,
   "metadata": {},
   "outputs": [
    {
     "ename": "NameError",
     "evalue": "name 'sort' is not defined",
     "output_type": "error",
     "traceback": [
      "\u001b[0;31m---------------------------------------------------------------------------\u001b[0m",
      "\u001b[0;31mNameError\u001b[0m                                 Traceback (most recent call last)",
      "\u001b[0;32m<ipython-input-44-8aced1a3746b>\u001b[0m in \u001b[0;36m<module>\u001b[0;34m()\u001b[0m\n\u001b[0;32m----> 1\u001b[0;31m \u001b[0msort\u001b[0m\u001b[0;34m(\u001b[0m\u001b[0mrandom_sample\u001b[0m\u001b[0;34m(\u001b[0m\u001b[0;34m'float'\u001b[0m\u001b[0;34m,\u001b[0m\u001b[0;34m[\u001b[0m\u001b[0;36m1\u001b[0m\u001b[0;34m,\u001b[0m\u001b[0;36m10\u001b[0m\u001b[0;34m]\u001b[0m\u001b[0;34m,\u001b[0m\u001b[0;36m2\u001b[0m\u001b[0;34m)\u001b[0m\u001b[0;34m)\u001b[0m\u001b[0;34m\u001b[0m\u001b[0m\n\u001b[0m",
      "\u001b[0;31mNameError\u001b[0m: name 'sort' is not defined"
     ]
    }
   ],
   "source": [
    "sort(random_sample('float',[1,10],2))"
   ]
  },
  {
   "cell_type": "code",
   "execution_count": 37,
   "metadata": {
    "collapsed": true
   },
   "outputs": [],
   "source": [
    "a = [[1]]"
   ]
  },
  {
   "cell_type": "code",
   "execution_count": 42,
   "metadata": {
    "collapsed": true
   },
   "outputs": [],
   "source": [
    "a [random_sample('float',[1,10],2)]"
   ]
  },
  {
   "cell_type": "code",
   "execution_count": 21,
   "metadata": {},
   "outputs": [
    {
     "data": {
      "text/plain": [
       "[0, 1, 2, 3, 4, 5, 6, 7, 8, 9]"
      ]
     },
     "execution_count": 21,
     "metadata": {},
     "output_type": "execute_result"
    }
   ],
   "source": [
    "range(0,10)"
   ]
  },
  {
   "cell_type": "code",
   "execution_count": 12,
   "metadata": {},
   "outputs": [
    {
     "name": "stdout",
     "output_type": "stream",
     "text": [
      "[1, 2, 'a', 'b']\n"
     ]
    }
   ],
   "source": [
    "a = [1,2]\n",
    "b=['a','b']\n",
    "print(a+b)"
   ]
  },
  {
   "cell_type": "code",
   "execution_count": 91,
   "metadata": {},
   "outputs": [
    {
     "name": "stdout",
     "output_type": "stream",
     "text": [
      "None\n"
     ]
    }
   ],
   "source": [
    "print(random_sample('float',[1,10],2).sort(reverse=True))"
   ]
  },
  {
   "cell_type": "code",
   "execution_count": 115,
   "metadata": {},
   "outputs": [
    {
     "name": "stdout",
     "output_type": "stream",
     "text": [
      "[[56], [2, 6, 8], None, None, [0.9009242275608164], [0.966690530132202]]\n"
     ]
    }
   ],
   "source": [
    "print(random_config(images_domain + modification_domain, 3))"
   ]
  },
  {
   "cell_type": "code",
   "execution_count": 30,
   "metadata": {
    "collapsed": true
   },
   "outputs": [],
   "source": [
    "x = []"
   ]
  },
  {
   "cell_type": "code",
   "execution_count": 106,
   "metadata": {},
   "outputs": [
    {
     "name": "stdout",
     "output_type": "stream",
     "text": [
      "[1, 3, 4, 2, 5]\n"
     ]
    }
   ],
   "source": [
    "list1 = [1,2,3,4,5]\n",
    "shuffle(list1)\n",
    "print(list1)"
   ]
  },
  {
   "cell_type": "code",
   "execution_count": 88,
   "metadata": {},
   "outputs": [
    {
     "data": {
      "text/plain": [
       "False"
      ]
     },
     "execution_count": 88,
     "metadata": {},
     "output_type": "execute_result"
    }
   ],
   "source": [
    "a=[1,2,3]\n",
    "b=[1,2,4]\n",
    "a==b"
   ]
  },
  {
   "cell_type": "code",
   "execution_count": null,
   "metadata": {
    "collapsed": true
   },
   "outputs": [],
   "source": [
    "step = float(domains[1][1])/n_cars\n",
    "    base = 0\n",
    "    for _ in range(n_cars):\n",
    "        x_sample.append(random.uniform(base, base+step))\n",
    "        base += step"
   ]
  }
 ],
 "metadata": {
  "anaconda-cloud": {},
  "kernelspec": {
   "display_name": "Python 2",
   "language": "python",
   "name": "python2"
  },
  "language_info": {
   "codemirror_mode": {
    "name": "ipython",
    "version": 2
   },
   "file_extension": ".py",
   "mimetype": "text/x-python",
   "name": "python",
   "nbconvert_exporter": "python",
   "pygments_lexer": "ipython2",
   "version": "2.7.13"
  }
 },
 "nbformat": 4,
 "nbformat_minor": 2
}
