{
 "cells": [
  {
   "cell_type": "code",
   "execution_count": 1,
   "metadata": {},
   "outputs": [
    {
     "name": "stdout",
     "output_type": "stream",
     "text": [
      "Please update object with bounding box\n",
      "Please update object with bounding box\n",
      "Please update object with bounding box\n",
      "Please update object with bounding box\n",
      "Please update object with bounding box\n",
      "Please update object with bounding box\n",
      "Please update object with bounding box\n",
      "Please update object with bounding box\n",
      "Please update object with bounding box\n",
      "Please update object with bounding box\n",
      "Please update object with bounding box\n",
      "Please update object with bounding box\n",
      "Please update object with bounding box\n",
      "Please update object with bounding box\n",
      "Please update object with bounding box\n",
      "Please update object with bounding box\n",
      "Please update object with bounding box\n",
      "Please update object with bounding box\n",
      "Please update object with bounding box\n",
      "Please update object with bounding box\n",
      "Please update object with bounding box\n",
      "Please update object with bounding box\n",
      "Please update object with bounding box\n",
      "Please update object with bounding box\n",
      "Please update object with bounding box\n",
      "Please update object with bounding box\n",
      "Please update object with bounding box\n",
      "Please update object with bounding box\n",
      "Please update object with bounding box\n",
      "Please update object with bounding box\n",
      "Please update object with bounding box\n",
      "Please update object with bounding box\n",
      "Please update object with bounding box\n",
      "Please update object with bounding box\n",
      "Please update object with bounding box\n",
      "Please update object with bounding box\n",
      "Please update object with bounding box\n",
      "Please update object with bounding box\n",
      "Please update object with bounding box\n",
      "Please update object with bounding box\n",
      "Please update object with bounding box\n",
      "Please update object with bounding box\n",
      "Please update object with bounding box\n",
      "Please update object with bounding box\n",
      "Please update object with bounding box\n",
      "Please update object with bounding box\n",
      "Please update object with bounding box\n",
      "Please update object with bounding box\n",
      "Please update object with bounding box\n",
      "Please update object with bounding box\n",
      "Please update object with bounding box\n",
      "Please update object with bounding box\n"
     ]
    }
   ],
   "source": [
    "from cnn_image_generation import *\n",
    "from analysis_nn import *\n",
    "from update_library import *\n",
    "import random\n",
    "from random import shuffle\n",
    "\n",
    "from PIL import Image, ImageFilter\n",
    "from IPython import display\n",
    "\n",
    "from matplotlib.pyplot import imshow\n",
    "%matplotlib inline\n",
    "\n",
    "import pickle\n",
    "import time\n",
    "\n",
    "lib = update_library()"
   ]
  },
  {
   "cell_type": "code",
   "execution_count": 2,
   "metadata": {
    "scrolled": false
   },
   "outputs": [
    {
     "name": "stdout",
     "output_type": "stream",
     "text": [
      "INFO:tensorflow:Summary name mean iou is illegal; using mean_iou instead.\n"
     ]
    },
    {
     "ename": "InternalError",
     "evalue": "Failed to create session.",
     "output_type": "error",
     "traceback": [
      "\u001b[0;31m---------------------------------------------------------\u001b[0m",
      "\u001b[0;31mInternalError\u001b[0m           Traceback (most recent call last)",
      "\u001b[0;32m<ipython-input-2-e33c21ae0617>\u001b[0m in \u001b[0;36m<module>\u001b[0;34m()\u001b[0m\n\u001b[1;32m      1\u001b[0m \u001b[0;32mimport\u001b[0m \u001b[0msqueezedet\u001b[0m \u001b[0;32mas\u001b[0m \u001b[0mnn\u001b[0m\u001b[0;34m\u001b[0m\u001b[0m\n\u001b[0;32m----> 2\u001b[0;31m \u001b[0mnet\u001b[0m \u001b[0;34m=\u001b[0m \u001b[0mnn\u001b[0m\u001b[0;34m.\u001b[0m\u001b[0minit\u001b[0m\u001b[0;34m(\u001b[0m\u001b[0;34m)\u001b[0m\u001b[0;34m\u001b[0m\u001b[0m\n\u001b[0m",
      "\u001b[0;32m/home/xyyue/projs/analyzeNN/squeezedet.pyc\u001b[0m in \u001b[0;36minit\u001b[0;34m()\u001b[0m\n\u001b[1;32m     42\u001b[0m     \u001b[0;31m# Start tensorflow session\u001b[0m\u001b[0;34m\u001b[0m\u001b[0;34m\u001b[0m\u001b[0m\n\u001b[1;32m     43\u001b[0m     \u001b[0msaver\u001b[0m \u001b[0;34m=\u001b[0m \u001b[0mtf\u001b[0m\u001b[0;34m.\u001b[0m\u001b[0mtrain\u001b[0m\u001b[0;34m.\u001b[0m\u001b[0mSaver\u001b[0m\u001b[0;34m(\u001b[0m\u001b[0mmodel\u001b[0m\u001b[0;34m.\u001b[0m\u001b[0mmodel_params\u001b[0m\u001b[0;34m)\u001b[0m\u001b[0;34m\u001b[0m\u001b[0m\n\u001b[0;32m---> 44\u001b[0;31m     \u001b[0msess\u001b[0m \u001b[0;34m=\u001b[0m \u001b[0mtf\u001b[0m\u001b[0;34m.\u001b[0m\u001b[0mSession\u001b[0m\u001b[0;34m(\u001b[0m\u001b[0mconfig\u001b[0m\u001b[0;34m=\u001b[0m\u001b[0mtf\u001b[0m\u001b[0;34m.\u001b[0m\u001b[0mConfigProto\u001b[0m\u001b[0;34m(\u001b[0m\u001b[0mallow_soft_placement\u001b[0m\u001b[0;34m=\u001b[0m\u001b[0mTrue\u001b[0m\u001b[0;34m)\u001b[0m\u001b[0;34m)\u001b[0m\u001b[0;34m\u001b[0m\u001b[0m\n\u001b[0m\u001b[1;32m     45\u001b[0m     \u001b[0msaver\u001b[0m\u001b[0;34m.\u001b[0m\u001b[0mrestore\u001b[0m\u001b[0;34m(\u001b[0m\u001b[0msess\u001b[0m\u001b[0;34m,\u001b[0m \u001b[0mFLAGS\u001b[0m\u001b[0;34m.\u001b[0m\u001b[0mcheckpoint\u001b[0m\u001b[0;34m)\u001b[0m\u001b[0;34m\u001b[0m\u001b[0m\n\u001b[1;32m     46\u001b[0m \u001b[0;34m\u001b[0m\u001b[0m\n",
      "\u001b[0;32m/home/xyyue/tensor/local/lib/python2.7/site-packages/tensorflow/python/client/session.pyc\u001b[0m in \u001b[0;36m__init__\u001b[0;34m(self, target, graph, config)\u001b[0m\n\u001b[1;32m   1185\u001b[0m \u001b[0;34m\u001b[0m\u001b[0m\n\u001b[1;32m   1186\u001b[0m     \"\"\"\n\u001b[0;32m-> 1187\u001b[0;31m     \u001b[0msuper\u001b[0m\u001b[0;34m(\u001b[0m\u001b[0mSession\u001b[0m\u001b[0;34m,\u001b[0m \u001b[0mself\u001b[0m\u001b[0;34m)\u001b[0m\u001b[0;34m.\u001b[0m\u001b[0m__init__\u001b[0m\u001b[0;34m(\u001b[0m\u001b[0mtarget\u001b[0m\u001b[0;34m,\u001b[0m \u001b[0mgraph\u001b[0m\u001b[0;34m,\u001b[0m \u001b[0mconfig\u001b[0m\u001b[0;34m=\u001b[0m\u001b[0mconfig\u001b[0m\u001b[0;34m)\u001b[0m\u001b[0;34m\u001b[0m\u001b[0m\n\u001b[0m\u001b[1;32m   1188\u001b[0m     \u001b[0;31m# NOTE(mrry): Create these on first `__enter__` to avoid a reference cycle.\u001b[0m\u001b[0;34m\u001b[0m\u001b[0;34m\u001b[0m\u001b[0m\n\u001b[1;32m   1189\u001b[0m     \u001b[0mself\u001b[0m\u001b[0;34m.\u001b[0m\u001b[0m_default_graph_context_manager\u001b[0m \u001b[0;34m=\u001b[0m \u001b[0mNone\u001b[0m\u001b[0;34m\u001b[0m\u001b[0m\n",
      "\u001b[0;32m/home/xyyue/tensor/local/lib/python2.7/site-packages/tensorflow/python/client/session.pyc\u001b[0m in \u001b[0;36m__init__\u001b[0;34m(self, target, graph, config)\u001b[0m\n\u001b[1;32m    550\u001b[0m     \u001b[0;32mtry\u001b[0m\u001b[0;34m:\u001b[0m\u001b[0;34m\u001b[0m\u001b[0m\n\u001b[1;32m    551\u001b[0m       \u001b[0;32mwith\u001b[0m \u001b[0merrors\u001b[0m\u001b[0;34m.\u001b[0m\u001b[0mraise_exception_on_not_ok_status\u001b[0m\u001b[0;34m(\u001b[0m\u001b[0;34m)\u001b[0m \u001b[0;32mas\u001b[0m \u001b[0mstatus\u001b[0m\u001b[0;34m:\u001b[0m\u001b[0;34m\u001b[0m\u001b[0m\n\u001b[0;32m--> 552\u001b[0;31m         \u001b[0mself\u001b[0m\u001b[0;34m.\u001b[0m\u001b[0m_session\u001b[0m \u001b[0;34m=\u001b[0m \u001b[0mtf_session\u001b[0m\u001b[0;34m.\u001b[0m\u001b[0mTF_NewDeprecatedSession\u001b[0m\u001b[0;34m(\u001b[0m\u001b[0mopts\u001b[0m\u001b[0;34m,\u001b[0m \u001b[0mstatus\u001b[0m\u001b[0;34m)\u001b[0m\u001b[0;34m\u001b[0m\u001b[0m\n\u001b[0m\u001b[1;32m    553\u001b[0m     \u001b[0;32mfinally\u001b[0m\u001b[0;34m:\u001b[0m\u001b[0;34m\u001b[0m\u001b[0m\n\u001b[1;32m    554\u001b[0m       \u001b[0mtf_session\u001b[0m\u001b[0;34m.\u001b[0m\u001b[0mTF_DeleteSessionOptions\u001b[0m\u001b[0;34m(\u001b[0m\u001b[0mopts\u001b[0m\u001b[0;34m)\u001b[0m\u001b[0;34m\u001b[0m\u001b[0m\n",
      "\u001b[0;32m/usr/lib/python2.7/contextlib.pyc\u001b[0m in \u001b[0;36m__exit__\u001b[0;34m(self, type, value, traceback)\u001b[0m\n\u001b[1;32m     22\u001b[0m         \u001b[0;32mif\u001b[0m \u001b[0mtype\u001b[0m \u001b[0;32mis\u001b[0m \u001b[0mNone\u001b[0m\u001b[0;34m:\u001b[0m\u001b[0;34m\u001b[0m\u001b[0m\n\u001b[1;32m     23\u001b[0m             \u001b[0;32mtry\u001b[0m\u001b[0;34m:\u001b[0m\u001b[0;34m\u001b[0m\u001b[0m\n\u001b[0;32m---> 24\u001b[0;31m                 \u001b[0mself\u001b[0m\u001b[0;34m.\u001b[0m\u001b[0mgen\u001b[0m\u001b[0;34m.\u001b[0m\u001b[0mnext\u001b[0m\u001b[0;34m(\u001b[0m\u001b[0;34m)\u001b[0m\u001b[0;34m\u001b[0m\u001b[0m\n\u001b[0m\u001b[1;32m     25\u001b[0m             \u001b[0;32mexcept\u001b[0m \u001b[0mStopIteration\u001b[0m\u001b[0;34m:\u001b[0m\u001b[0;34m\u001b[0m\u001b[0m\n\u001b[1;32m     26\u001b[0m                 \u001b[0;32mreturn\u001b[0m\u001b[0;34m\u001b[0m\u001b[0m\n",
      "\u001b[0;32m/home/xyyue/tensor/local/lib/python2.7/site-packages/tensorflow/python/framework/errors_impl.pyc\u001b[0m in \u001b[0;36mraise_exception_on_not_ok_status\u001b[0;34m()\u001b[0m\n\u001b[1;32m    467\u001b[0m           \u001b[0mNone\u001b[0m\u001b[0;34m,\u001b[0m \u001b[0mNone\u001b[0m\u001b[0;34m,\u001b[0m\u001b[0;34m\u001b[0m\u001b[0m\n\u001b[1;32m    468\u001b[0m           \u001b[0mcompat\u001b[0m\u001b[0;34m.\u001b[0m\u001b[0mas_text\u001b[0m\u001b[0;34m(\u001b[0m\u001b[0mpywrap_tensorflow\u001b[0m\u001b[0;34m.\u001b[0m\u001b[0mTF_Message\u001b[0m\u001b[0;34m(\u001b[0m\u001b[0mstatus\u001b[0m\u001b[0;34m)\u001b[0m\u001b[0;34m)\u001b[0m\u001b[0;34m,\u001b[0m\u001b[0;34m\u001b[0m\u001b[0m\n\u001b[0;32m--> 469\u001b[0;31m           pywrap_tensorflow.TF_GetCode(status))\n\u001b[0m\u001b[1;32m    470\u001b[0m   \u001b[0;32mfinally\u001b[0m\u001b[0;34m:\u001b[0m\u001b[0;34m\u001b[0m\u001b[0m\n\u001b[1;32m    471\u001b[0m     \u001b[0mpywrap_tensorflow\u001b[0m\u001b[0;34m.\u001b[0m\u001b[0mTF_DeleteStatus\u001b[0m\u001b[0;34m(\u001b[0m\u001b[0mstatus\u001b[0m\u001b[0;34m)\u001b[0m\u001b[0;34m\u001b[0m\u001b[0m\n",
      "\u001b[0;31mInternalError\u001b[0m: Failed to create session."
     ]
    }
   ],
   "source": [
    "import squeezedet as nn\n",
    "net = nn.init()"
   ]
  },
  {
   "cell_type": "code",
   "execution_count": 2,
   "metadata": {},
   "outputs": [],
   "source": [
    "num_pics = 2000\n",
    "# Sampling bounds (x,y)\n",
    "sample_dim = 6\n",
    "max_num_cars = 3\n",
    "# images_domain = [[52,72],[1,19]]\n",
    "images_domain = [[52,72],[1,19]]\n",
    "modification_domain = [[0,1],[0.35,1],[0.8,1.2],[0.7,1]]\n",
    "\n",
    "#path_synth_set = './synth/uniform/'\n",
    "#path_synth_set = './synth/uniform_misclass/'\n",
    "\n",
    "err_table = error_table()"
   ]
  },
  {
   "cell_type": "code",
   "execution_count": 4,
   "metadata": {},
   "outputs": [],
   "source": [
    "def scale_sample(sample, sampling_domain):\n",
    "    '''Scale a [0,1] sample in a given domain'''\n",
    "    for i in range(len(sample)):\n",
    "        sample[i] = sample[i]*(sampling_domain[i][1] - sampling_domain[i][0]) + sampling_domain[i][0]\n",
    "    return sample    \n",
    "\n",
    "\n",
    "\n",
    "def random_sample(typ, domain, n_samples):\n",
    "    \n",
    "    sample = []\n",
    "    for _ in range(n_samples):\n",
    "        if typ == 'float':\n",
    "            r = random.random()*(domain[1]-domain[0])+domain[0]\n",
    "        elif typ == 'int':\n",
    "            r = random.choice(range(domain[0],domain[1]))\n",
    "        else:\n",
    "            print('Error')\n",
    "        sample.append(r)    \n",
    "    return sample\n",
    "\n",
    "def random_config(domains, n_cars):\n",
    "#     print(\"domains is : \", domains)# [[52, 72], [1, 19], [0, 1], [0.35, 1], [0.8, 1.2], [0.7, 1]]\n",
    "#     print(\"n_cars is : \", n_cars)\n",
    "    # Scene and cars\n",
    "    sample = [random_sample('int',domains[0],1)]\n",
    "    sample += [random_sample('int',domains[1],n_cars)]\n",
    "    # Modifications\n",
    "    x_sample = []\n",
    "    y_sample = []\n",
    "    if n_cars > 0:\n",
    "        step_x = float(domains[2][1])/n_cars\n",
    "        step_y = float(domains[3][1])/n_cars\n",
    "\n",
    "        base_x = 0\n",
    "        base_y = 0\n",
    "        for _ in range(n_cars):\n",
    "            x_sample.append(random.uniform(base_x, base_x+step_x))\n",
    "            y_sample.append(random.uniform(base_y, base_y+step_y))\n",
    "            base_x += step_x    \n",
    "            base_y += step_y\n",
    "            \n",
    "    shuffle(x_sample)    \n",
    "    y_sample.sort(reverse=True)\n",
    "    sample += [x_sample]\n",
    "    sample += [y_sample]\n",
    "\n",
    "    sample += [random_sample('float',domains[4],1)]\n",
    "    sample += [random_sample('float',domains[5],1)]\n",
    "    \n",
    "    return sample    \n",
    "    \n",
    "\n",
    "def box_2_kitti_format(box):\n",
    "    '''Transform box for KITTI label format'''\n",
    "    x = box[0]\n",
    "    y = box[1]\n",
    "    w = box[2]\n",
    "    h = box[3]\n",
    "    left = int(x - w/2)\n",
    "    right = int(x + w/2)\n",
    "    top = int(y - h/2)\n",
    "    bot = int(y + h/2)\n",
    "    return [left,top,right,bot]"
   ]
  },
  {
   "cell_type": "code",
   "execution_count": 13,
   "metadata": {},
   "outputs": [
    {
     "name": "stdout",
     "output_type": "stream",
     "text": [
      "Generating 2000/10000/20\n",
      "i: 38/h: 0.76\n",
      "i: 70/h: 0.7\n",
      "i: 107/h: 0.713333333333\n",
      "i: 143/h: 0.715\n",
      "i: 182/h: 0.728\n",
      "i: 221/h: 0.736666666667\n",
      "i: 261/h: 0.745714285714\n",
      "i: 298/h: 0.745\n",
      "i: 336/h: 0.746666666667\n",
      "i: 378/h: 0.756\n",
      "i: 414/h: 0.752727272727\n",
      "i: 450/h: 0.75\n",
      "i: 489/h: 0.752307692308\n",
      "i: 523/h: 0.747142857143\n",
      "i: 564/h: 0.752\n",
      "i: 599/h: 0.74875\n",
      "i: 636/h: 0.748235294118\n",
      "i: 674/h: 0.748888888889\n",
      "i: 715/h: 0.752631578947\n",
      "i: 756/h: 0.756\n",
      "i: 797/h: 0.759047619048\n",
      "i: 839/h: 0.762727272727\n",
      "i: 879/h: 0.764347826087\n",
      "i: 918/h: 0.765\n",
      "i: 957/h: 0.7656\n",
      "i: 996/h: 0.766153846154\n",
      "i: 1031/h: 0.763703703704\n",
      "i: 1069/h: 0.763571428571\n",
      "i: 1113/h: 0.767586206897\n",
      "i: 1150/h: 0.766666666667\n",
      "i: 1193/h: 0.769677419355\n",
      "i: 1224/h: 0.765\n",
      "i: 1262/h: 0.764848484848\n",
      "i: 1302/h: 0.765882352941\n",
      "i: 1343/h: 0.767428571429\n",
      "i: 1383/h: 0.768333333333\n",
      "i: 1425/h: 0.77027027027\n",
      "i: 1468/h: 0.772631578947\n",
      "i: 1504/h: 0.771282051282\n",
      "i: 1542/h: 0.771\n",
      "i: 1579/h: 0.770243902439\n",
      "i: 1621/h: 0.771904761905\n",
      "i: 1662/h: 0.773023255814\n",
      "i: 1700/h: 0.772727272727\n",
      "i: 1740/h: 0.773333333333\n",
      "i: 1776/h: 0.772173913043\n",
      "i: 1810/h: 0.770212765957\n",
      "i: 1843/h: 0.767916666667\n",
      "i: 1885/h: 0.769387755102\n",
      "i: 1928/h: 0.7712\n",
      "i: 1964/h: 0.770196078431\n",
      "i: 2007/h: 0.771923076923\n",
      "i: 2044/h: 0.771320754717\n",
      "i: 2084/h: 0.771851851852\n",
      "i: 2123/h: 0.772\n",
      "i: 2162/h: 0.772142857143\n",
      "i: 2199/h: 0.771578947368\n",
      "i: 2234/h: 0.770344827586\n",
      "i: 2276/h: 0.771525423729\n",
      "i: 2317/h: 0.772333333333\n",
      "i: 2358/h: 0.773114754098\n",
      "i: 2399/h: 0.773870967742\n",
      "i: 2436/h: 0.773333333333\n",
      "i: 2472/h: 0.7725\n",
      "i: 2515/h: 0.773846153846\n",
      "i: 2562/h: 0.776363636364\n",
      "i: 2603/h: 0.777014925373\n",
      "i: 2642/h: 0.777058823529\n",
      "i: 2683/h: 0.77768115942\n",
      "i: 2721/h: 0.777428571429\n",
      "i: 2757/h: 0.77661971831\n",
      "i: 2797/h: 0.776944444444\n",
      "i: 2839/h: 0.777808219178\n",
      "i: 2881/h: 0.778648648649\n",
      "i: 2924/h: 0.779733333333\n",
      "i: 2968/h: 0.781052631579\n",
      "i: 3007/h: 0.781038961039\n",
      "i: 3048/h: 0.781538461538\n",
      "i: 3093/h: 0.783037974684\n",
      "i: 3134/h: 0.7835\n",
      "i: 3170/h: 0.782716049383\n",
      "i: 3209/h: 0.782682926829\n",
      "i: 3245/h: 0.781927710843\n",
      "i: 3284/h: 0.781904761905\n",
      "i: 3328/h: 0.783058823529\n",
      "i: 3369/h: 0.783488372093\n",
      "i: 3409/h: 0.78367816092\n",
      "i: 3449/h: 0.783863636364\n",
      "i: 3484/h: 0.782921348315\n",
      "i: 3518/h: 0.781777777778\n",
      "i: 3557/h: 0.781758241758\n",
      "i: 3594/h: 0.781304347826\n",
      "i: 3637/h: 0.782150537634\n",
      "i: 3675/h: 0.781914893617\n",
      "i: 3715/h: 0.782105263158\n",
      "i: 3761/h: 0.783541666667\n",
      "i: 3799/h: 0.783298969072\n",
      "i: 3842/h: 0.784081632653\n",
      "i: 3881/h: 0.78404040404\n",
      "i: 3920/h: 0.784\n",
      "i: 3958/h: 0.783762376238\n",
      "i: 4000/h: 0.78431372549\n",
      "i: 4037/h: 0.783883495146\n",
      "i: 4080/h: 0.784615384615\n",
      "i: 4119/h: 0.784571428571\n",
      "i: 4158/h: 0.784528301887\n",
      "i: 4196/h: 0.784299065421\n",
      "i: 4230/h: 0.783333333333\n",
      "i: 4261/h: 0.781834862385\n",
      "i: 4298/h: 0.781454545455\n",
      "i: 4340/h: 0.781981981982\n",
      "i: 4380/h: 0.782142857143\n",
      "i: 4418/h: 0.781946902655\n",
      "i: 4457/h: 0.781929824561\n",
      "i: 4498/h: 0.782260869565\n",
      "i: 4536/h: 0.782068965517\n",
      "i: 4578/h: 0.782564102564\n",
      "i: 4617/h: 0.782542372881\n",
      "i: 4661/h: 0.783361344538\n",
      "i: 4699/h: 0.783166666667\n",
      "i: 4735/h: 0.782644628099\n",
      "i: 4775/h: 0.782786885246\n",
      "i: 4813/h: 0.782601626016\n",
      "i: 4853/h: 0.782741935484\n",
      "i: 4894/h: 0.78304\n",
      "i: 4934/h: 0.783174603175\n",
      "i: 4971/h: 0.782834645669\n"
     ]
    }
   ],
   "source": [
    "for batch in range(10000,11000,1000):\n",
    "    \n",
    "    for ratio in range(20,25,5):\n",
    "        \n",
    "        num_pics = batch/100*ratio\n",
    "        path_synth_set = './synth/' + str(1500) + '/'\n",
    "        \n",
    "        print('Generating ' + str(num_pics) + '/' + str(batch) + '/' + str(ratio))\n",
    "\n",
    "        i = 0\n",
    "        v = 0\n",
    "\n",
    "#         while i < num_pics:\n",
    "        while i < 5000:\n",
    "\n",
    "            num_cars = random.randint(1, max_num_cars)\n",
    "            save_img = False\n",
    "            try_num = 0\n",
    "            while (not save_img) and (try_num < 25):\n",
    "                sample = random_config(images_domain + modification_domain, num_cars)\n",
    "\n",
    "                img, ground_boxes, img_info = gen_comp_img(lib, bg_id=sample[0][0], fg_id=sample[1], x=sample[2], y=sample[3], brightness=sample[4][0], color=sample[5][0])\n",
    "\n",
    "                # Save tmp image    \n",
    "\n",
    "    #             tmp_img_file_name = './tmp.png'\n",
    "    #             img.save(tmp_img_file_name)\n",
    "\n",
    "    #             # Classify img\n",
    "    #             (boxes,probs,cats) = nn.classify(tmp_img_file_name,net) \n",
    "\n",
    "                save_img = True\n",
    "                for m in range(len(ground_boxes)):\n",
    "                    for n in range(m+1, len(ground_boxes)):\n",
    "                        if nn.iomin(ground_boxes[m], ground_boxes[n]) > 0.4:\n",
    "    #                         print(\"BAD\")\n",
    "                            save_img = False\n",
    "                try_num += 1\n",
    "                        \n",
    "                    \n",
    "#             # Not cars\n",
    "#             if any(cats):\n",
    "#                 save_img = True\n",
    "#             else:\n",
    "#                 for ground_box in ground_boxes:\n",
    "#                     for box, prob in zip(boxes, probs):\n",
    "#                         if( nn.iou(ground_box, box)*prob) < 0.25:\n",
    "#                             save_img = True\n",
    "            \n",
    "            if save_img:\n",
    "                file_name = 'm' + str(i).zfill(6)\n",
    "\n",
    "                # Save image\n",
    "                img_file_name = path_synth_set + 'images/' + file_name + '.png'\n",
    "                img.save(img_file_name)\n",
    "#                 print(\"Saving to \", img_file_name)\n",
    "\n",
    "                # Save label\n",
    "                f = open(path_synth_set + 'labels/' + file_name + '.txt', 'w')\n",
    "\n",
    "                if len(ground_boxes) > 0:\n",
    "                    for box in ground_boxes[:-1]:\n",
    "                        label = [0,0,0] + box_2_kitti_format(box) + [0,0,0,0,0,0,0]\n",
    "                        label = list(map(str, label))\n",
    "                        label = \" \".join(label)\n",
    "                        label  = \"Car \" + label + \"\\n\"\n",
    "                        f.write(label)  # python will convert \\n to os.linesep\n",
    "                    label = [0,0,0] + box_2_kitti_format(ground_boxes[-1]) + [0,0,0,0,0,0,0]\n",
    "                    label = list(map(str, label))\n",
    "                    label = \" \".join(label)\n",
    "                    label  = \"Car \" + label\n",
    "                    f.write(label)  # python will convert \\n to os.linesep\n",
    "                f.close()\n",
    "\n",
    "        # #         err_table.update_with_elem(img_info)\n",
    "\n",
    "                i+=1\n",
    "            v+=1\n",
    "\n",
    "            if(v %50 == 0):\n",
    "                print('i: ' + str(i) + '/' + 'h: ' + str(float(i)/float(v)))"
   ]
  },
  {
   "cell_type": "code",
   "execution_count": 102,
   "metadata": {},
   "outputs": [],
   "source": [
    "def gen_image_set(n, k):\n",
    "    im_set = random.sample(range(0,n),  k)\n",
    "    with open('3000_005.txt',\"w\") as fw:\n",
    "        for im in im_set:\n",
    "            fw.write('m' + str(im).zfill(6) + \"\\n\")    "
   ]
  },
  {
   "cell_type": "code",
   "execution_count": 21,
   "metadata": {},
   "outputs": [
    {
     "name": "stdout",
     "output_type": "stream",
     "text": [
      "hello\n",
      "hello\n",
      "hello\n",
      "hello\n",
      "hello\n",
      "hello\n",
      "hello\n",
      "hello\n"
     ]
    }
   ],
   "source": [
    "lst = list(range(0,10000))\n",
    "\n",
    "for m in range(3000,11000,1000):\n",
    "        \n",
    "    random.shuffle(lst)\n",
    "    train_set = lst[0:m]\n",
    "    \n",
    "    file_name = \"train_\" + str(m) + '_' + '0.txt'\n",
    "    \n",
    "    with open(file_name,\"w\") as fw:\n",
    "        for x in train_set:\n",
    "            fw.write(str(x).zfill(6) + \"\\n\")"
   ]
  },
  {
   "cell_type": "code",
   "execution_count": 24,
   "metadata": {
    "collapsed": true
   },
   "outputs": [],
   "source": [
    "gen_image_set(num_pics,600)"
   ]
  },
  {
   "cell_type": "code",
   "execution_count": 1,
   "metadata": {},
   "outputs": [
    {
     "ename": "NameError",
     "evalue": "name 'sample' is not defined",
     "output_type": "error",
     "traceback": [
      "\u001b[0;31m---------------------------------------------------------------------------\u001b[0m",
      "\u001b[0;31mNameError\u001b[0m                                 Traceback (most recent call last)",
      "\u001b[0;32m<ipython-input-1-5f34ec0bfeac>\u001b[0m in \u001b[0;36m<module>\u001b[0;34m()\u001b[0m\n\u001b[0;32m----> 1\u001b[0;31m \u001b[0msample\u001b[0m\u001b[0;34m\u001b[0m\u001b[0m\n\u001b[0m",
      "\u001b[0;31mNameError\u001b[0m: name 'sample' is not defined"
     ]
    }
   ],
   "source": [
    "sample"
   ]
  },
  {
   "cell_type": "code",
   "execution_count": 44,
   "metadata": {},
   "outputs": [
    {
     "ename": "NameError",
     "evalue": "name 'sort' is not defined",
     "output_type": "error",
     "traceback": [
      "\u001b[0;31m---------------------------------------------------------------------------\u001b[0m",
      "\u001b[0;31mNameError\u001b[0m                                 Traceback (most recent call last)",
      "\u001b[0;32m<ipython-input-44-8aced1a3746b>\u001b[0m in \u001b[0;36m<module>\u001b[0;34m()\u001b[0m\n\u001b[0;32m----> 1\u001b[0;31m \u001b[0msort\u001b[0m\u001b[0;34m(\u001b[0m\u001b[0mrandom_sample\u001b[0m\u001b[0;34m(\u001b[0m\u001b[0;34m'float'\u001b[0m\u001b[0;34m,\u001b[0m\u001b[0;34m[\u001b[0m\u001b[0;36m1\u001b[0m\u001b[0;34m,\u001b[0m\u001b[0;36m10\u001b[0m\u001b[0;34m]\u001b[0m\u001b[0;34m,\u001b[0m\u001b[0;36m2\u001b[0m\u001b[0;34m)\u001b[0m\u001b[0;34m)\u001b[0m\u001b[0;34m\u001b[0m\u001b[0m\n\u001b[0m",
      "\u001b[0;31mNameError\u001b[0m: name 'sort' is not defined"
     ]
    }
   ],
   "source": [
    "sort(random_sample('float',[1,10],2))"
   ]
  },
  {
   "cell_type": "code",
   "execution_count": 37,
   "metadata": {
    "collapsed": true
   },
   "outputs": [],
   "source": [
    "a = [[1]]"
   ]
  },
  {
   "cell_type": "code",
   "execution_count": 42,
   "metadata": {
    "collapsed": true
   },
   "outputs": [],
   "source": [
    "a [random_sample('float',[1,10],2)]"
   ]
  },
  {
   "cell_type": "code",
   "execution_count": 21,
   "metadata": {},
   "outputs": [
    {
     "data": {
      "text/plain": [
       "[0, 1, 2, 3, 4, 5, 6, 7, 8, 9]"
      ]
     },
     "execution_count": 21,
     "metadata": {},
     "output_type": "execute_result"
    }
   ],
   "source": [
    "range(0,10)"
   ]
  },
  {
   "cell_type": "code",
   "execution_count": 12,
   "metadata": {},
   "outputs": [
    {
     "name": "stdout",
     "output_type": "stream",
     "text": [
      "[1, 2, 'a', 'b']\n"
     ]
    }
   ],
   "source": [
    "a = [1,2]\n",
    "b=['a','b']\n",
    "print(a+b)"
   ]
  },
  {
   "cell_type": "code",
   "execution_count": 91,
   "metadata": {},
   "outputs": [
    {
     "name": "stdout",
     "output_type": "stream",
     "text": [
      "None\n"
     ]
    }
   ],
   "source": [
    "print(random_sample('float',[1,10],2).sort(reverse=True))"
   ]
  },
  {
   "cell_type": "code",
   "execution_count": 115,
   "metadata": {},
   "outputs": [
    {
     "name": "stdout",
     "output_type": "stream",
     "text": [
      "[[56], [2, 6, 8], None, None, [0.9009242275608164], [0.966690530132202]]\n"
     ]
    }
   ],
   "source": [
    "print(random_config(images_domain + modification_domain, 3))"
   ]
  },
  {
   "cell_type": "code",
   "execution_count": 30,
   "metadata": {
    "collapsed": true
   },
   "outputs": [],
   "source": [
    "x = []"
   ]
  },
  {
   "cell_type": "code",
   "execution_count": 106,
   "metadata": {},
   "outputs": [
    {
     "name": "stdout",
     "output_type": "stream",
     "text": [
      "[1, 3, 4, 2, 5]\n"
     ]
    }
   ],
   "source": [
    "list1 = [1,2,3,4,5]\n",
    "shuffle(list1)\n",
    "print(list1)"
   ]
  },
  {
   "cell_type": "code",
   "execution_count": 88,
   "metadata": {},
   "outputs": [
    {
     "data": {
      "text/plain": [
       "False"
      ]
     },
     "execution_count": 88,
     "metadata": {},
     "output_type": "execute_result"
    }
   ],
   "source": [
    "a=[1,2,3]\n",
    "b=[1,2,4]\n",
    "a==b"
   ]
  },
  {
   "cell_type": "code",
   "execution_count": null,
   "metadata": {
    "collapsed": true
   },
   "outputs": [],
   "source": [
    "step = float(domains[1][1])/n_cars\n",
    "    base = 0\n",
    "    for _ in range(n_cars):\n",
    "        x_sample.append(random.uniform(base, base+step))\n",
    "        base += step"
   ]
  }
 ],
 "metadata": {
  "anaconda-cloud": {},
  "kernelspec": {
   "display_name": "tensor",
   "language": "python",
   "name": "tensor"
  },
  "language_info": {
   "codemirror_mode": {
    "name": "ipython",
    "version": 2
   },
   "file_extension": ".py",
   "mimetype": "text/x-python",
   "name": "python",
   "nbconvert_exporter": "python",
   "pygments_lexer": "ipython2",
   "version": "2.7.12"
  }
 },
 "nbformat": 4,
 "nbformat_minor": 2
}
