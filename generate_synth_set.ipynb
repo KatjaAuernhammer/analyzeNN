{
 "cells": [
  {
   "cell_type": "code",
   "execution_count": 15,
   "metadata": {},
   "outputs": [
    {
     "name": "stdout",
     "output_type": "stream",
     "text": [
      "Please update object with bounding box\n",
      "Please update object with bounding box\n",
      "Please update object with bounding box\n",
      "Please update object with bounding box\n",
      "Please update object with bounding box\n",
      "Please update object with bounding box\n",
      "Please update object with bounding box\n",
      "Please update object with bounding box\n",
      "Please update object with bounding box\n",
      "Please update object with bounding box\n",
      "Please update object with bounding box\n",
      "Please update object with bounding box\n",
      "Please update object with bounding box\n",
      "Please update object with bounding box\n",
      "Please update object with bounding box\n",
      "Please update object with bounding box\n",
      "Please update object with bounding box\n",
      "Please update object with bounding box\n",
      "Please update object with bounding box\n",
      "Please update object with bounding box\n",
      "Please update object with bounding box\n",
      "Please update object with bounding box\n",
      "Please update object with bounding box\n",
      "Please update object with bounding box\n",
      "Please update object with bounding box\n",
      "Please update object with bounding box\n",
      "Please update object with bounding box\n",
      "Please update object with bounding box\n",
      "Please update object with bounding box\n",
      "Please update object with bounding box\n",
      "Please update object with bounding box\n",
      "Please update object with bounding box\n",
      "Please update object with bounding box\n",
      "Please update object with bounding box\n",
      "Please update object with bounding box\n",
      "Please update object with bounding box\n",
      "Please update object with bounding box\n",
      "Please update object with bounding box\n",
      "Please update object with bounding box\n",
      "Please update object with bounding box\n",
      "Please update object with bounding box\n",
      "Please update object with bounding box\n",
      "Please update object with bounding box\n",
      "Please update object with bounding box\n",
      "Please update object with bounding box\n",
      "Please update object with bounding box\n",
      "Please update object with bounding box\n",
      "Please update object with bounding box\n",
      "Please update object with bounding box\n",
      "Please update object with bounding box\n",
      "Please update object with bounding box\n",
      "Please update object with bounding box\n"
     ]
    }
   ],
   "source": [
    "from cnn_image_generation import *\n",
    "from analysis_nn import *\n",
    "from update_library import *\n",
    "import random\n",
    "from random import shuffle\n",
    "\n",
    "from PIL import Image, ImageFilter\n",
    "from IPython import display\n",
    "\n",
    "from matplotlib.pyplot import imshow\n",
    "%matplotlib inline\n",
    "\n",
    "import pickle\n",
    "import time\n",
    "\n",
    "lib = update_library()"
   ]
  },
  {
   "cell_type": "code",
   "execution_count": 16,
   "metadata": {
    "scrolled": false
   },
   "outputs": [
    {
     "name": "stdout",
     "output_type": "stream",
     "text": [
      "INFO:tensorflow:Summary name mean iou is illegal; using mean_iou instead.\n"
     ]
    }
   ],
   "source": [
    "import squeezedet as nn\n",
    "net = nn.init()"
   ]
  },
  {
   "cell_type": "code",
   "execution_count": 17,
   "metadata": {},
   "outputs": [],
   "source": [
    "num_pics = 2000\n",
    "# Sampling bounds (x,y)\n",
    "sample_dim = 6\n",
    "max_num_cars = 3\n",
    "# images_domain = [[52,72],[1,19]]\n",
    "images_domain = [[52,72],[1,19]]\n",
    "modification_domain = [[0,1],[0.35,1],[0.8,1.2],[0.7,1]]\n",
    "\n",
    "#path_synth_set = './synth/uniform/'\n",
    "#path_synth_set = './synth/uniform_misclass/'\n",
    "\n",
    "err_table = error_table()"
   ]
  },
  {
   "cell_type": "code",
   "execution_count": 18,
   "metadata": {},
   "outputs": [],
   "source": [
    "def scale_sample(sample, sampling_domain):\n",
    "    '''Scale a [0,1] sample in a given domain'''\n",
    "    for i in range(len(sample)):\n",
    "        sample[i] = sample[i]*(sampling_domain[i][1] - sampling_domain[i][0]) + sampling_domain[i][0]\n",
    "    return sample    \n",
    "\n",
    "\n",
    "\n",
    "def random_sample(typ, domain, n_samples):\n",
    "    \n",
    "    sample = []\n",
    "    for _ in range(n_samples):\n",
    "        if typ == 'float':\n",
    "            r = random.random()*(domain[1]-domain[0])+domain[0]\n",
    "        elif typ == 'int':\n",
    "            r = random.choice(range(domain[0],domain[1]))\n",
    "        else:\n",
    "            print('Error')\n",
    "        sample.append(r)    \n",
    "    return sample\n",
    "\n",
    "def random_config(domains, n_cars):\n",
    "#     print(\"domains is : \", domains)# [[52, 72], [1, 19], [0, 1], [0.35, 1], [0.8, 1.2], [0.7, 1]]\n",
    "#     print(\"n_cars is : \", n_cars)\n",
    "    # Scene and cars\n",
    "    sample = [random_sample('int',domains[0],1)]\n",
    "    sample += [random_sample('int',domains[1],n_cars)]\n",
    "    # Modifications\n",
    "    x_sample = []\n",
    "    y_sample = []\n",
    "    if n_cars > 0:\n",
    "        step_x = float(domains[2][1])/n_cars\n",
    "        step_y = float(domains[3][1])/n_cars\n",
    "\n",
    "        base_x = 0\n",
    "        base_y = 0\n",
    "        for _ in range(n_cars):\n",
    "            x_sample.append(random.uniform(base_x, base_x+step_x))\n",
    "            y_sample.append(random.uniform(base_y, base_y+step_y))\n",
    "            base_x += step_x    \n",
    "            base_y += step_y\n",
    "            \n",
    "    shuffle(x_sample)    \n",
    "    y_sample.sort(reverse=True)\n",
    "    sample += [x_sample]\n",
    "    sample += [y_sample]\n",
    "\n",
    "    sample += [random_sample('float',domains[4],1)]\n",
    "    sample += [random_sample('float',domains[5],1)]\n",
    "    \n",
    "    return sample    \n",
    "    \n",
    "\n",
    "def box_2_kitti_format(box):\n",
    "    '''Transform box for KITTI label format'''\n",
    "    x = box[0]\n",
    "    y = box[1]\n",
    "    w = box[2]\n",
    "    h = box[3]\n",
    "    left = int(x - w/2)\n",
    "    right = int(x + w/2)\n",
    "    top = int(y - h/2)\n",
    "    bot = int(y + h/2)\n",
    "    return [left,top,right,bot]"
   ]
  },
  {
   "cell_type": "code",
   "execution_count": 20,
   "metadata": {},
   "outputs": [
    {
     "name": "stdout",
     "output_type": "stream",
     "text": [
      "Generating 2000/10000/20\n",
      "i: 30/h: 0.6\n",
      "i: 59/h: 0.59\n",
      "i: 88/h: 0.586666666667\n",
      "i: 119/h: 0.595\n",
      "i: 141/h: 0.564\n",
      "i: 167/h: 0.556666666667\n",
      "i: 189/h: 0.54\n",
      "i: 219/h: 0.5475\n",
      "i: 244/h: 0.542222222222\n",
      "i: 270/h: 0.54\n",
      "i: 300/h: 0.545454545455\n",
      "i: 332/h: 0.553333333333\n",
      "i: 368/h: 0.566153846154\n",
      "i: 397/h: 0.567142857143\n",
      "i: 425/h: 0.566666666667\n",
      "i: 456/h: 0.57\n",
      "i: 487/h: 0.572941176471\n",
      "i: 515/h: 0.572222222222\n",
      "i: 542/h: 0.570526315789\n",
      "i: 572/h: 0.572\n",
      "i: 605/h: 0.57619047619\n",
      "i: 629/h: 0.571818181818\n",
      "i: 655/h: 0.569565217391\n",
      "i: 682/h: 0.568333333333\n",
      "i: 708/h: 0.5664\n",
      "i: 737/h: 0.566923076923\n",
      "i: 763/h: 0.565185185185\n",
      "i: 790/h: 0.564285714286\n",
      "i: 822/h: 0.566896551724\n",
      "i: 853/h: 0.568666666667\n",
      "i: 877/h: 0.565806451613\n",
      "i: 901/h: 0.563125\n",
      "i: 928/h: 0.562424242424\n",
      "i: 953/h: 0.560588235294\n",
      "i: 984/h: 0.562285714286\n",
      "i: 1008/h: 0.56\n",
      "i: 1048/h: 0.566486486486\n",
      "i: 1075/h: 0.565789473684\n",
      "i: 1106/h: 0.567179487179\n",
      "i: 1134/h: 0.567\n",
      "i: 1165/h: 0.568292682927\n",
      "i: 1199/h: 0.570952380952\n",
      "i: 1225/h: 0.56976744186\n",
      "i: 1257/h: 0.571363636364\n",
      "i: 1286/h: 0.571555555556\n",
      "i: 1312/h: 0.570434782609\n",
      "i: 1340/h: 0.570212765957\n",
      "i: 1366/h: 0.569166666667\n",
      "i: 1396/h: 0.569795918367\n",
      "i: 1425/h: 0.57\n",
      "i: 1456/h: 0.570980392157\n",
      "i: 1485/h: 0.571153846154\n",
      "i: 1516/h: 0.572075471698\n",
      "i: 1555/h: 0.575925925926\n",
      "i: 1580/h: 0.574545454545\n",
      "i: 1607/h: 0.573928571429\n",
      "i: 1643/h: 0.57649122807\n",
      "i: 1673/h: 0.576896551724\n",
      "i: 1704/h: 0.577627118644\n",
      "i: 1736/h: 0.578666666667\n",
      "i: 1767/h: 0.579344262295\n",
      "i: 1795/h: 0.579032258065\n",
      "i: 1820/h: 0.577777777778\n",
      "i: 1848/h: 0.5775\n",
      "i: 1880/h: 0.578461538462\n",
      "i: 1909/h: 0.578484848485\n",
      "i: 1943/h: 0.58\n",
      "i: 1968/h: 0.578823529412\n",
      "i: 1998/h: 0.579130434783\n",
      "i: 2023/h: 0.578\n",
      "i: 2053/h: 0.578309859155\n",
      "i: 2078/h: 0.577222222222\n",
      "i: 2106/h: 0.57698630137\n",
      "i: 2135/h: 0.577027027027\n",
      "i: 2155/h: 0.574666666667\n",
      "i: 2179/h: 0.573421052632\n",
      "i: 2209/h: 0.573766233766\n",
      "i: 2237/h: 0.57358974359\n",
      "i: 2265/h: 0.573417721519\n",
      "i: 2295/h: 0.57375\n",
      "i: 2323/h: 0.573580246914\n",
      "i: 2351/h: 0.573414634146\n",
      "i: 2376/h: 0.572530120482\n",
      "i: 2400/h: 0.571428571429\n",
      "i: 2427/h: 0.571058823529\n",
      "i: 2456/h: 0.571162790698\n",
      "i: 2487/h: 0.571724137931\n",
      "i: 2513/h: 0.571136363636\n",
      "i: 2541/h: 0.571011235955\n",
      "i: 2563/h: 0.569555555556\n",
      "i: 2587/h: 0.568571428571\n",
      "i: 2614/h: 0.568260869565\n",
      "i: 2645/h: 0.568817204301\n",
      "i: 2683/h: 0.57085106383\n",
      "i: 2709/h: 0.570315789474\n",
      "i: 2741/h: 0.571041666667\n",
      "i: 2771/h: 0.571340206186\n",
      "i: 2806/h: 0.572653061224\n",
      "i: 2835/h: 0.572727272727\n",
      "i: 2868/h: 0.5736\n",
      "i: 2900/h: 0.574257425743\n",
      "i: 2921/h: 0.572745098039\n",
      "i: 2948/h: 0.572427184466\n",
      "i: 2979/h: 0.572884615385\n",
      "i: 3008/h: 0.572952380952\n",
      "i: 3035/h: 0.572641509434\n",
      "i: 3061/h: 0.57214953271\n",
      "i: 3087/h: 0.571666666667\n",
      "i: 3118/h: 0.572110091743\n",
      "i: 3148/h: 0.572363636364\n",
      "i: 3179/h: 0.572792792793\n",
      "i: 3212/h: 0.573571428571\n",
      "i: 3236/h: 0.572743362832\n",
      "i: 3264/h: 0.572631578947\n",
      "i: 3292/h: 0.57252173913\n",
      "i: 3321/h: 0.572586206897\n",
      "i: 3349/h: 0.572478632479\n",
      "i: 3378/h: 0.572542372881\n",
      "i: 3408/h: 0.572773109244\n",
      "i: 3442/h: 0.573666666667\n",
      "i: 3464/h: 0.572561983471\n",
      "i: 3491/h: 0.572295081967\n",
      "i: 3516/h: 0.571707317073\n",
      "i: 3546/h: 0.571935483871\n",
      "i: 3571/h: 0.57136\n",
      "i: 3597/h: 0.570952380952\n",
      "i: 3629/h: 0.571496062992\n",
      "i: 3655/h: 0.57109375\n",
      "i: 3684/h: 0.571162790698\n",
      "i: 3710/h: 0.570769230769\n",
      "i: 3739/h: 0.570839694656\n",
      "i: 3769/h: 0.571060606061\n",
      "i: 3800/h: 0.571428571429\n",
      "i: 3831/h: 0.571791044776\n",
      "i: 3862/h: 0.572148148148\n",
      "i: 3893/h: 0.5725\n",
      "i: 3920/h: 0.572262773723\n",
      "i: 3955/h: 0.573188405797\n",
      "i: 3986/h: 0.573525179856\n",
      "i: 4013/h: 0.573285714286\n",
      "i: 4045/h: 0.573758865248\n",
      "i: 4070/h: 0.57323943662\n",
      "i: 4098/h: 0.573146853147\n",
      "i: 4127/h: 0.573194444444\n",
      "i: 4157/h: 0.573379310345\n",
      "i: 4184/h: 0.573150684932\n",
      "i: 4213/h: 0.573197278912\n",
      "i: 4244/h: 0.573513513514\n",
      "i: 4272/h: 0.573422818792\n",
      "i: 4303/h: 0.573733333333\n",
      "i: 4336/h: 0.574304635762\n",
      "i: 4361/h: 0.573815789474\n",
      "i: 4387/h: 0.573464052288\n",
      "i: 4418/h: 0.573766233766\n",
      "i: 4444/h: 0.573419354839\n",
      "i: 4472/h: 0.573333333333\n",
      "i: 4503/h: 0.573630573248\n",
      "i: 4533/h: 0.573797468354\n",
      "i: 4559/h: 0.573459119497\n",
      "i: 4590/h: 0.57375\n",
      "i: 4620/h: 0.573913043478\n",
      "i: 4647/h: 0.573703703704\n",
      "i: 4676/h: 0.573742331288\n",
      "i: 4706/h: 0.573902439024\n",
      "i: 4733/h: 0.573696969697\n",
      "i: 4761/h: 0.573614457831\n",
      "i: 4789/h: 0.573532934132\n",
      "i: 4820/h: 0.57380952381\n",
      "i: 4850/h: 0.573964497041\n",
      "i: 4870/h: 0.572941176471\n",
      "i: 4901/h: 0.573216374269\n",
      "i: 4930/h: 0.573255813953\n",
      "i: 4960/h: 0.573410404624\n",
      "i: 4991/h: 0.57367816092\n"
     ]
    }
   ],
   "source": [
    "for batch in range(10000,11000,1000):\n",
    "    \n",
    "    for ratio in range(20,25,5):\n",
    "        \n",
    "        num_pics = batch/100*ratio\n",
    "        path_synth_set = './synth/' + str(5000) + '/'\n",
    "        \n",
    "        print('Generating ' + str(num_pics) + '/' + str(batch) + '/' + str(ratio))\n",
    "\n",
    "        i = 0\n",
    "        v = 0\n",
    "\n",
    "#         while i < num_pics:\n",
    "        while i < 5000:\n",
    "\n",
    "            num_cars = random.randint(1, max_num_cars)\n",
    "            sample = random_config(images_domain + modification_domain, num_cars)\n",
    "\n",
    "            img, ground_boxes, img_info = gen_comp_img(lib, bg_id=sample[0][0], fg_id=sample[1], x=sample[2], y=sample[3], brightness=sample[4][0], color=sample[5][0])\n",
    "\n",
    "            # Save tmp image    \n",
    "\n",
    "#             tmp_img_file_name = './tmp.png'\n",
    "#             img.save(tmp_img_file_name)\n",
    "\n",
    "#             # Classify img\n",
    "#             (boxes,probs,cats) = nn.classify(tmp_img_file_name,net) \n",
    "\n",
    "            save_img = True\n",
    "            for m in range(len(ground_boxes)):\n",
    "                for n in range(m+1, len(ground_boxes)):\n",
    "                    if nn.iomin(ground_boxes[m], ground_boxes[n]) > 0.7:\n",
    "#                         print(\"BAD\")\n",
    "                        save_img = False\n",
    "                        \n",
    "                    \n",
    "#             # Not cars\n",
    "#             if any(cats):\n",
    "#                 save_img = True\n",
    "#             else:\n",
    "#                 for ground_box in ground_boxes:\n",
    "#                     for box, prob in zip(boxes, probs):\n",
    "#                         if( nn.iou(ground_box, box)*prob) < 0.25:\n",
    "#                             save_img = True\n",
    "            \n",
    "            if save_img:\n",
    "                file_name = 'm' + str(i).zfill(6)\n",
    "\n",
    "                # Save image\n",
    "                img_file_name = path_synth_set + 'images/' + file_name + '.png'\n",
    "                img.save(img_file_name)\n",
    "#                 print(\"Saving to \", img_file_name)\n",
    "\n",
    "                # Save label\n",
    "                f = open(path_synth_set + 'labels/' + file_name + '.txt', 'w')\n",
    "\n",
    "                if len(ground_boxes) > 0:\n",
    "                    for box in ground_boxes[:-1]:\n",
    "                        label = [0,0,0] + box_2_kitti_format(box) + [0,0,0,0,0,0,0]\n",
    "                        label = list(map(str, label))\n",
    "                        label = \" \".join(label)\n",
    "                        label  = \"Car \" + label + \"\\n\"\n",
    "                        f.write(label)  # python will convert \\n to os.linesep\n",
    "                    label = [0,0,0] + box_2_kitti_format(ground_boxes[-1]) + [0,0,0,0,0,0,0]\n",
    "                    label = list(map(str, label))\n",
    "                    label = \" \".join(label)\n",
    "                    label  = \"Car \" + label\n",
    "                    f.write(label)  # python will convert \\n to os.linesep\n",
    "                f.close()\n",
    "\n",
    "        # #         err_table.update_with_elem(img_info)\n",
    "\n",
    "                i+=1\n",
    "            v+=1\n",
    "\n",
    "            if(v %50 == 0):\n",
    "                print('i: ' + str(i) + '/' + 'h: ' + str(float(i)/float(v)))"
   ]
  },
  {
   "cell_type": "code",
   "execution_count": 102,
   "metadata": {},
   "outputs": [],
   "source": [
    "def gen_image_set(n, k):\n",
    "    im_set = random.sample(range(0,n),  k)\n",
    "    with open('3000_005.txt',\"w\") as fw:\n",
    "        for im in im_set:\n",
    "            fw.write('m' + str(im).zfill(6) + \"\\n\")    "
   ]
  },
  {
   "cell_type": "code",
   "execution_count": 21,
   "metadata": {},
   "outputs": [
    {
     "name": "stdout",
     "output_type": "stream",
     "text": [
      "hello\n",
      "hello\n",
      "hello\n",
      "hello\n",
      "hello\n",
      "hello\n",
      "hello\n",
      "hello\n"
     ]
    }
   ],
   "source": [
    "lst = list(range(0,10000))\n",
    "\n",
    "for m in range(3000,11000,1000):\n",
    "        \n",
    "    random.shuffle(lst)\n",
    "    train_set = lst[0:m]\n",
    "    \n",
    "    file_name = \"train_\" + str(m) + '_' + '0.txt'\n",
    "    \n",
    "    with open(file_name,\"w\") as fw:\n",
    "        for x in train_set:\n",
    "            fw.write(str(x).zfill(6) + \"\\n\")"
   ]
  },
  {
   "cell_type": "code",
   "execution_count": 24,
   "metadata": {
    "collapsed": true
   },
   "outputs": [],
   "source": [
    "gen_image_set(num_pics,600)"
   ]
  },
  {
   "cell_type": "code",
   "execution_count": 1,
   "metadata": {},
   "outputs": [
    {
     "ename": "NameError",
     "evalue": "name 'sample' is not defined",
     "output_type": "error",
     "traceback": [
      "\u001b[0;31m---------------------------------------------------------------------------\u001b[0m",
      "\u001b[0;31mNameError\u001b[0m                                 Traceback (most recent call last)",
      "\u001b[0;32m<ipython-input-1-5f34ec0bfeac>\u001b[0m in \u001b[0;36m<module>\u001b[0;34m()\u001b[0m\n\u001b[0;32m----> 1\u001b[0;31m \u001b[0msample\u001b[0m\u001b[0;34m\u001b[0m\u001b[0m\n\u001b[0m",
      "\u001b[0;31mNameError\u001b[0m: name 'sample' is not defined"
     ]
    }
   ],
   "source": [
    "sample"
   ]
  },
  {
   "cell_type": "code",
   "execution_count": 44,
   "metadata": {},
   "outputs": [
    {
     "ename": "NameError",
     "evalue": "name 'sort' is not defined",
     "output_type": "error",
     "traceback": [
      "\u001b[0;31m---------------------------------------------------------------------------\u001b[0m",
      "\u001b[0;31mNameError\u001b[0m                                 Traceback (most recent call last)",
      "\u001b[0;32m<ipython-input-44-8aced1a3746b>\u001b[0m in \u001b[0;36m<module>\u001b[0;34m()\u001b[0m\n\u001b[0;32m----> 1\u001b[0;31m \u001b[0msort\u001b[0m\u001b[0;34m(\u001b[0m\u001b[0mrandom_sample\u001b[0m\u001b[0;34m(\u001b[0m\u001b[0;34m'float'\u001b[0m\u001b[0;34m,\u001b[0m\u001b[0;34m[\u001b[0m\u001b[0;36m1\u001b[0m\u001b[0;34m,\u001b[0m\u001b[0;36m10\u001b[0m\u001b[0;34m]\u001b[0m\u001b[0;34m,\u001b[0m\u001b[0;36m2\u001b[0m\u001b[0;34m)\u001b[0m\u001b[0;34m)\u001b[0m\u001b[0;34m\u001b[0m\u001b[0m\n\u001b[0m",
      "\u001b[0;31mNameError\u001b[0m: name 'sort' is not defined"
     ]
    }
   ],
   "source": [
    "sort(random_sample('float',[1,10],2))"
   ]
  },
  {
   "cell_type": "code",
   "execution_count": 37,
   "metadata": {
    "collapsed": true
   },
   "outputs": [],
   "source": [
    "a = [[1]]"
   ]
  },
  {
   "cell_type": "code",
   "execution_count": 42,
   "metadata": {
    "collapsed": true
   },
   "outputs": [],
   "source": [
    "a [random_sample('float',[1,10],2)]"
   ]
  },
  {
   "cell_type": "code",
   "execution_count": 21,
   "metadata": {},
   "outputs": [
    {
     "data": {
      "text/plain": [
       "[0, 1, 2, 3, 4, 5, 6, 7, 8, 9]"
      ]
     },
     "execution_count": 21,
     "metadata": {},
     "output_type": "execute_result"
    }
   ],
   "source": [
    "range(0,10)"
   ]
  },
  {
   "cell_type": "code",
   "execution_count": 12,
   "metadata": {},
   "outputs": [
    {
     "name": "stdout",
     "output_type": "stream",
     "text": [
      "[1, 2, 'a', 'b']\n"
     ]
    }
   ],
   "source": [
    "a = [1,2]\n",
    "b=['a','b']\n",
    "print(a+b)"
   ]
  },
  {
   "cell_type": "code",
   "execution_count": 91,
   "metadata": {},
   "outputs": [
    {
     "name": "stdout",
     "output_type": "stream",
     "text": [
      "None\n"
     ]
    }
   ],
   "source": [
    "print(random_sample('float',[1,10],2).sort(reverse=True))"
   ]
  },
  {
   "cell_type": "code",
   "execution_count": 115,
   "metadata": {},
   "outputs": [
    {
     "name": "stdout",
     "output_type": "stream",
     "text": [
      "[[56], [2, 6, 8], None, None, [0.9009242275608164], [0.966690530132202]]\n"
     ]
    }
   ],
   "source": [
    "print(random_config(images_domain + modification_domain, 3))"
   ]
  },
  {
   "cell_type": "code",
   "execution_count": 30,
   "metadata": {
    "collapsed": true
   },
   "outputs": [],
   "source": [
    "x = []"
   ]
  },
  {
   "cell_type": "code",
   "execution_count": 106,
   "metadata": {},
   "outputs": [
    {
     "name": "stdout",
     "output_type": "stream",
     "text": [
      "[1, 3, 4, 2, 5]\n"
     ]
    }
   ],
   "source": [
    "list1 = [1,2,3,4,5]\n",
    "shuffle(list1)\n",
    "print(list1)"
   ]
  },
  {
   "cell_type": "code",
   "execution_count": 88,
   "metadata": {},
   "outputs": [
    {
     "data": {
      "text/plain": [
       "False"
      ]
     },
     "execution_count": 88,
     "metadata": {},
     "output_type": "execute_result"
    }
   ],
   "source": [
    "a=[1,2,3]\n",
    "b=[1,2,4]\n",
    "a==b"
   ]
  },
  {
   "cell_type": "code",
   "execution_count": null,
   "metadata": {
    "collapsed": true
   },
   "outputs": [],
   "source": [
    "step = float(domains[1][1])/n_cars\n",
    "    base = 0\n",
    "    for _ in range(n_cars):\n",
    "        x_sample.append(random.uniform(base, base+step))\n",
    "        base += step"
   ]
  }
 ],
 "metadata": {
  "anaconda-cloud": {},
  "kernelspec": {
   "display_name": "tensor",
   "language": "python",
   "name": "tensor"
  },
  "language_info": {
   "codemirror_mode": {
    "name": "ipython",
    "version": 2
   },
   "file_extension": ".py",
   "mimetype": "text/x-python",
   "name": "python",
   "nbconvert_exporter": "python",
   "pygments_lexer": "ipython2",
   "version": "2.7.12"
  }
 },
 "nbformat": 4,
 "nbformat_minor": 2
}
