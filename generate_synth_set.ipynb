{
 "cells": [
  {
   "cell_type": "code",
   "execution_count": 39,
   "metadata": {},
   "outputs": [
    {
     "name": "stdout",
     "output_type": "stream",
     "text": [
      "Please update object with bounding box\n",
      "Please update object with bounding box\n",
      "Please update object with bounding box\n",
      "Please update object with bounding box\n",
      "Please update object with bounding box\n",
      "Please update object with bounding box\n",
      "Please update object with bounding box\n",
      "Please update object with bounding box\n",
      "Please update object with bounding box\n",
      "Please update object with bounding box\n",
      "Please update object with bounding box\n",
      "Please update object with bounding box\n",
      "Please update object with bounding box\n",
      "Please update object with bounding box\n",
      "Please update object with bounding box\n",
      "Please update object with bounding box\n",
      "Please update object with bounding box\n",
      "Please update object with bounding box\n",
      "Please update object with bounding box\n",
      "Please update object with bounding box\n",
      "Please update object with bounding box\n",
      "Please update object with bounding box\n",
      "Please update object with bounding box\n",
      "Please update object with bounding box\n",
      "Please update object with bounding box\n",
      "Please update object with bounding box\n",
      "Please update object with bounding box\n",
      "Please update object with bounding box\n",
      "Please update object with bounding box\n",
      "Please update object with bounding box\n",
      "Please update object with bounding box\n",
      "Please update object with bounding box\n",
      "Please update object with bounding box\n",
      "Please update object with bounding box\n",
      "Please update object with bounding box\n",
      "Please update object with bounding box\n",
      "Please update object with bounding box\n",
      "Please update object with bounding box\n",
      "Please update object with bounding box\n",
      "Please update object with bounding box\n",
      "Please update object with bounding box\n",
      "Please update object with bounding box\n",
      "Please update object with bounding box\n",
      "Please update object with bounding box\n",
      "Please update object with bounding box\n",
      "Please update object with bounding box\n",
      "Please update object with bounding box\n",
      "Please update object with bounding box\n",
      "Please update object with bounding box\n",
      "Please update object with bounding box\n",
      "Please update object with bounding box\n",
      "Please update object with bounding box\n"
     ]
    }
   ],
   "source": [
    "from cnn_image_generation import *\n",
    "from analysis_nn import *\n",
    "from update_library import *\n",
    "import random\n",
    "\n",
    "from PIL import Image, ImageFilter\n",
    "from IPython import display\n",
    "\n",
    "from matplotlib.pyplot import imshow\n",
    "%matplotlib inline\n",
    "\n",
    "lib = update_library()"
   ]
  },
  {
   "cell_type": "code",
   "execution_count": 374,
   "metadata": {
    "collapsed": true
   },
   "outputs": [],
   "source": [
    "num_pics = 925\n",
    "# Sampling bounds (x,y)\n",
    "sample_dim = 2\n",
    "images_domain = [[52,72],[1,19]]\n",
    "modification_domain = [[0,1],[0,1]]\n",
    "\n",
    "path_synth_set = './synth/uniform/'"
   ]
  },
  {
   "cell_type": "code",
   "execution_count": 375,
   "metadata": {
    "collapsed": true
   },
   "outputs": [],
   "source": [
    "def scale_sample(sample, sampling_domain):\n",
    "    '''Scale a [0,1] sample in a given domain'''\n",
    "    for i in range(len(sample)):\n",
    "        sample[i] = sample[i]*(sampling_domain[i][1] - sampling_domain[i][0]) + sampling_domain[i][0]\n",
    "    return sample    \n",
    "\n",
    "def random_sample(typ,sampling_domain):\n",
    "    sample = []\n",
    "    for i in range(len(sampling_domain)):\n",
    "        domain = sampling_domain[i]\n",
    "        if typ == 'float':\n",
    "            r = random.random()*(domain[1]-domain[0])+domain[0]\n",
    "        elif typ == 'int':\n",
    "            r = random.choice(range(domain[0],domain[1]))\n",
    "        else:\n",
    "            print('Error')\n",
    "        sample.append(r)\n",
    "    return sample\n",
    "\n",
    "def box_2_kitti_format(box):\n",
    "    '''Transform box for KITTI label format'''\n",
    "    x = box[0]\n",
    "    y = box[1]\n",
    "    w = box[2]\n",
    "    h = box[3]\n",
    "    left = int(x - w/2)\n",
    "    right = int(x + w/2)\n",
    "    top = int(y - h/2)\n",
    "    bot = int(y + h/2)\n",
    "    return [left,top,right,bot]\n",
    "    "
   ]
  },
  {
   "cell_type": "code",
   "execution_count": null,
   "metadata": {},
   "outputs": [
    {
     "name": "stdout",
     "output_type": "stream",
     "text": [
      "0\n",
      "25\n",
      "50\n",
      "75\n",
      "100\n",
      "125\n",
      "150\n",
      "175\n",
      "200\n",
      "225\n",
      "250\n",
      "275\n",
      "300\n",
      "325\n",
      "350\n",
      "375\n",
      "400\n",
      "425\n",
      "450\n",
      "475\n",
      "500\n",
      "525\n",
      "550\n",
      "575\n",
      "600\n",
      "625\n",
      "650\n",
      "675\n",
      "700\n",
      "725\n",
      "750\n",
      "775\n",
      "800\n",
      "825\n",
      "850\n"
     ]
    }
   ],
   "source": [
    "for i in range(num_pics):\n",
    "    if (i % 25 == 0):\n",
    "        print(i)\n",
    "    \n",
    "    sample = random_sample('int',images_domain) + random_sample('float',modification_domain)\n",
    "    img, box = gen_comp_img(lib, bg_id=sample[0], fg_id=sample[1],x=sample[2], y=sample[3])\n",
    "\n",
    "    file_name = 's' + str(i).zfill(6)\n",
    "    # Save image\n",
    "    img.save(path_synth_set + 'images/' + file_name + '.png')\n",
    "\n",
    "    # Save label\n",
    "    f = open(path_synth_set + 'labels/' + file_name + '.txt', 'w')\n",
    "    label = [0,0,0] + box_2_kitti_format(box) + [0,0,0,0,0,0,0]\n",
    "    label = list(map(str, label))\n",
    "    label = \" \".join(label)\n",
    "    label  = \"Car \" + label\n",
    "    f.write(label)  # python will convert \\n to os.linesep\n",
    "    f.close()"
   ]
  },
  {
   "cell_type": "code",
   "execution_count": 144,
   "metadata": {},
   "outputs": [
    {
     "ename": "IndexError",
     "evalue": "list index out of range",
     "output_type": "error",
     "traceback": [
      "\u001b[0;31m---------------------------------------------------------------------------\u001b[0m",
      "\u001b[0;31mIndexError\u001b[0m                                Traceback (most recent call last)",
      "\u001b[0;32m<ipython-input-144-5faddec87ae7>\u001b[0m in \u001b[0;36m<module>\u001b[0;34m()\u001b[0m\n\u001b[0;32m----> 1\u001b[0;31m \u001b[0mimg\u001b[0m\u001b[0;34m,\u001b[0m \u001b[0mbox\u001b[0m \u001b[0;34m=\u001b[0m \u001b[0mgen_comp_img\u001b[0m\u001b[0;34m(\u001b[0m\u001b[0mlib\u001b[0m\u001b[0;34m,\u001b[0m \u001b[0mbg_id\u001b[0m\u001b[0;34m=\u001b[0m\u001b[0;36m69\u001b[0m\u001b[0;34m,\u001b[0m \u001b[0mfg_id\u001b[0m\u001b[0;34m=\u001b[0m\u001b[0;36m19\u001b[0m\u001b[0;34m,\u001b[0m\u001b[0mx\u001b[0m\u001b[0;34m=\u001b[0m\u001b[0msample\u001b[0m\u001b[0;34m[\u001b[0m\u001b[0;36m2\u001b[0m\u001b[0;34m]\u001b[0m\u001b[0;34m,\u001b[0m \u001b[0my\u001b[0m\u001b[0;34m=\u001b[0m\u001b[0msample\u001b[0m\u001b[0;34m[\u001b[0m\u001b[0;36m3\u001b[0m\u001b[0;34m]\u001b[0m\u001b[0;34m)\u001b[0m\u001b[0;34m\u001b[0m\u001b[0m\n\u001b[0m",
      "\u001b[0;32m~/CnnAnalysisRepair/image_generation/cnn_image_generation/image_mod_gen_utils.py\u001b[0m in \u001b[0;36mgen_comp_img\u001b[0;34m(library, x, y, bg_id, fg_id, brightness, sharpness, contrast, color)\u001b[0m\n\u001b[1;32m     47\u001b[0m                  contrast= 1., color=1.):\n\u001b[1;32m     48\u001b[0m     \u001b[0mbackground\u001b[0m \u001b[0;34m=\u001b[0m \u001b[0mlibrary\u001b[0m\u001b[0;34m.\u001b[0m\u001b[0mbackground_objects\u001b[0m\u001b[0;34m[\u001b[0m\u001b[0mbg_id\u001b[0m\u001b[0;34m]\u001b[0m\u001b[0;34m\u001b[0m\u001b[0m\n\u001b[0;32m---> 49\u001b[0;31m     \u001b[0mforeground\u001b[0m \u001b[0;34m=\u001b[0m \u001b[0mlibrary\u001b[0m\u001b[0;34m.\u001b[0m\u001b[0mforeground_objects\u001b[0m\u001b[0;34m[\u001b[0m\u001b[0mfg_id\u001b[0m\u001b[0;34m]\u001b[0m\u001b[0;34m\u001b[0m\u001b[0m\n\u001b[0m\u001b[1;32m     50\u001b[0m     \u001b[0mscaling_factor\u001b[0m \u001b[0;34m=\u001b[0m \u001b[0mbackground\u001b[0m\u001b[0;34m.\u001b[0m\u001b[0mscaling\u001b[0m\u001b[0;34m\u001b[0m\u001b[0m\n\u001b[1;32m     51\u001b[0m     \u001b[0mscale_fg\u001b[0m \u001b[0;34m=\u001b[0m \u001b[0my\u001b[0m \u001b[0;34m*\u001b[0m \u001b[0;34m(\u001b[0m\u001b[0mscaling_factor\u001b[0m\u001b[0;34m.\u001b[0m\u001b[0mback\u001b[0m \u001b[0;34m-\u001b[0m \u001b[0mscaling_factor\u001b[0m\u001b[0;34m.\u001b[0m\u001b[0mfront\u001b[0m\u001b[0;34m)\u001b[0m \u001b[0;34m+\u001b[0m \u001b[0mscaling_factor\u001b[0m\u001b[0;34m.\u001b[0m\u001b[0mfront\u001b[0m\u001b[0;34m\u001b[0m\u001b[0m\n",
      "\u001b[0;31mIndexError\u001b[0m: list index out of range"
     ]
    }
   ],
   "source": [
    "img, box = gen_comp_img(lib, bg_id=69, fg_id=19,x=sample[2], y=sample[3])"
   ]
  },
  {
   "cell_type": "code",
   "execution_count": 15,
   "metadata": {},
   "outputs": [
    {
     "data": {
      "text/plain": [
       "[0.5, 0.35]"
      ]
     },
     "execution_count": 15,
     "metadata": {},
     "output_type": "execute_result"
    }
   ],
   "source": [
    "scale_sample([0.5,0.7], [[0,1],[0,0.5]])"
   ]
  },
  {
   "cell_type": "code",
   "execution_count": 18,
   "metadata": {},
   "outputs": [
    {
     "ename": "TypeError",
     "evalue": "random() takes no arguments (1 given)",
     "output_type": "error",
     "traceback": [
      "\u001b[0;31m---------------------------------------------------------------------------\u001b[0m",
      "\u001b[0;31mTypeError\u001b[0m                                 Traceback (most recent call last)",
      "\u001b[0;32m<ipython-input-18-e945e74925f4>\u001b[0m in \u001b[0;36m<module>\u001b[0;34m()\u001b[0m\n\u001b[0;32m----> 1\u001b[0;31m \u001b[0mrandom\u001b[0m\u001b[0;34m.\u001b[0m\u001b[0mrandom\u001b[0m\u001b[0;34m(\u001b[0m\u001b[0;36m2\u001b[0m\u001b[0;34m)\u001b[0m\u001b[0;34m\u001b[0m\u001b[0m\n\u001b[0m",
      "\u001b[0;31mTypeError\u001b[0m: random() takes no arguments (1 given)"
     ]
    }
   ],
   "source": [
    "random.random(2)"
   ]
  },
  {
   "cell_type": "code",
   "execution_count": 22,
   "metadata": {},
   "outputs": [
    {
     "data": {
      "text/plain": [
       "[0.8365261050663598,\n",
       " 0.6500198560236171,\n",
       " 0.5290232094944505,\n",
       " 0.9244035357725716,\n",
       " 0.3036994618940815]"
      ]
     },
     "execution_count": 22,
     "metadata": {},
     "output_type": "execute_result"
    }
   ],
   "source": [
    " random_sample(5)"
   ]
  },
  {
   "cell_type": "code",
   "execution_count": 67,
   "metadata": {},
   "outputs": [
    {
     "data": {
      "text/plain": [
       "2"
      ]
     },
     "execution_count": 67,
     "metadata": {},
     "output_type": "execute_result"
    }
   ],
   "source": []
  },
  {
   "cell_type": "code",
   "execution_count": 370,
   "metadata": {},
   "outputs": [],
   "source": []
  },
  {
   "cell_type": "code",
   "execution_count": 365,
   "metadata": {},
   "outputs": [
    {
     "data": {
      "text/plain": [
       "'[ 1 ,   2 ,   3 ]'"
      ]
     },
     "execution_count": 365,
     "metadata": {},
     "output_type": "execute_result"
    }
   ],
   "source": [
    "list1 = str([1,2,3])\n",
    "\" \".join(list1)"
   ]
  },
  {
   "cell_type": "code",
   "execution_count": 357,
   "metadata": {},
   "outputs": [
    {
     "data": {
      "text/plain": [
       "'1 2 3'"
      ]
     },
     "execution_count": 357,
     "metadata": {},
     "output_type": "execute_result"
    }
   ],
   "source": [
    "str1"
   ]
  },
  {
   "cell_type": "code",
   "execution_count": 369,
   "metadata": {},
   "outputs": [
    {
     "data": {
      "text/plain": [
       "'1 2 3'"
      ]
     },
     "execution_count": 369,
     "metadata": {},
     "output_type": "execute_result"
    }
   ],
   "source": []
  },
  {
   "cell_type": "code",
   "execution_count": null,
   "metadata": {
    "collapsed": true
   },
   "outputs": [],
   "source": []
  }
 ],
 "metadata": {
  "kernelspec": {
   "display_name": "Python 3",
   "language": "python",
   "name": "python3"
  },
  "language_info": {
   "codemirror_mode": {
    "name": "ipython",
    "version": 3
   },
   "file_extension": ".py",
   "mimetype": "text/x-python",
   "name": "python",
   "nbconvert_exporter": "python",
   "pygments_lexer": "ipython3",
   "version": "3.6.2"
  }
 },
 "nbformat": 4,
 "nbformat_minor": 2
}
