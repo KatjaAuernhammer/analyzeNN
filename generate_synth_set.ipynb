{
 "cells": [
  {
   "cell_type": "code",
   "execution_count": 1,
   "metadata": {},
   "outputs": [
    {
     "name": "stdout",
     "output_type": "stream",
     "text": [
      "Please update object with bounding box\n",
      "Please update object with bounding box\n",
      "Please update object with bounding box\n",
      "Please update object with bounding box\n",
      "Please update object with bounding box\n",
      "Please update object with bounding box\n",
      "Please update object with bounding box\n",
      "Please update object with bounding box\n",
      "Please update object with bounding box\n",
      "Please update object with bounding box\n",
      "Please update object with bounding box\n",
      "Please update object with bounding box\n",
      "Please update object with bounding box\n",
      "Please update object with bounding box\n",
      "Please update object with bounding box\n",
      "Please update object with bounding box\n",
      "Please update object with bounding box\n",
      "Please update object with bounding box\n",
      "Please update object with bounding box\n",
      "Please update object with bounding box\n",
      "Please update object with bounding box\n",
      "Please update object with bounding box\n",
      "Please update object with bounding box\n",
      "Please update object with bounding box\n",
      "Please update object with bounding box\n",
      "Please update object with bounding box\n",
      "Please update object with bounding box\n",
      "Please update object with bounding box\n",
      "Please update object with bounding box\n",
      "Please update object with bounding box\n",
      "Please update object with bounding box\n",
      "Please update object with bounding box\n",
      "Please update object with bounding box\n",
      "Please update object with bounding box\n",
      "Please update object with bounding box\n",
      "Please update object with bounding box\n",
      "Please update object with bounding box\n",
      "Please update object with bounding box\n",
      "Please update object with bounding box\n",
      "Please update object with bounding box\n",
      "Please update object with bounding box\n",
      "Please update object with bounding box\n",
      "Please update object with bounding box\n",
      "Please update object with bounding box\n",
      "Please update object with bounding box\n",
      "Please update object with bounding box\n",
      "Please update object with bounding box\n",
      "Please update object with bounding box\n",
      "Please update object with bounding box\n",
      "Please update object with bounding box\n",
      "Please update object with bounding box\n",
      "Please update object with bounding box\n"
     ]
    }
   ],
   "source": [
    "from cnn_image_generation import *\n",
    "from analysis_nn import *\n",
    "from update_library import *\n",
    "import random\n",
    "\n",
    "from PIL import Image, ImageFilter\n",
    "from IPython import display\n",
    "\n",
    "from matplotlib.pyplot import imshow\n",
    "%matplotlib inline\n",
    "\n",
    "lib = update_library()"
   ]
  },
  {
   "cell_type": "code",
   "execution_count": 2,
   "metadata": {},
   "outputs": [],
   "source": [
    "num_pics = 925\n",
    "# Sampling bounds (x,y)\n",
    "sample_dim = 2\n",
    "images_domain = [[52,72],[1,19]]\n",
    "modification_domain = [[0,1],[0,1]]\n",
    "\n",
    "#path_synth_set = './synth/uniform/'\n",
    "path_synth_set = './synth/uniform_misclass/'"
   ]
  },
  {
   "cell_type": "code",
   "execution_count": 3,
   "metadata": {},
   "outputs": [],
   "source": [
    "def scale_sample(sample, sampling_domain):\n",
    "    '''Scale a [0,1] sample in a given domain'''\n",
    "    for i in range(len(sample)):\n",
    "        sample[i] = sample[i]*(sampling_domain[i][1] - sampling_domain[i][0]) + sampling_domain[i][0]\n",
    "    return sample    \n",
    "\n",
    "def random_sample(typ,sampling_domain):\n",
    "    sample = []\n",
    "    for i in range(len(sampling_domain)):\n",
    "        domain = sampling_domain[i]\n",
    "        if typ == 'float':\n",
    "            r = random.random()*(domain[1]-domain[0])+domain[0]\n",
    "        elif typ == 'int':\n",
    "            r = random.choice(range(domain[0],domain[1]))\n",
    "        else:\n",
    "            print('Error')\n",
    "        sample.append(r)\n",
    "    return sample\n",
    "\n",
    "def box_2_kitti_format(box):\n",
    "    '''Transform box for KITTI label format'''\n",
    "    x = box[0]\n",
    "    y = box[1]\n",
    "    w = box[2]\n",
    "    h = box[3]\n",
    "    left = int(x - w/2)\n",
    "    right = int(x + w/2)\n",
    "    top = int(y - h/2)\n",
    "    bot = int(y + h/2)\n",
    "    return [left,top,right,bot]\n",
    "    "
   ]
  },
  {
   "cell_type": "code",
   "execution_count": 4,
   "metadata": {},
   "outputs": [
    {
     "name": "stdout",
     "output_type": "stream",
     "text": [
      "0\n"
     ]
    },
    {
     "ename": "TypeError",
     "evalue": "can only concatenate list (not \"tuple\") to list",
     "output_type": "error",
     "traceback": [
      "\u001b[0;31m---------------------------------------------------------------------------\u001b[0m",
      "\u001b[0;31mTypeError\u001b[0m                                 Traceback (most recent call last)",
      "\u001b[0;32m<ipython-input-4-d52fbfecfa72>\u001b[0m in \u001b[0;36m<module>\u001b[0;34m()\u001b[0m\n\u001b[1;32m      4\u001b[0m \u001b[0;34m\u001b[0m\u001b[0m\n\u001b[1;32m      5\u001b[0m     \u001b[0msample\u001b[0m \u001b[0;34m=\u001b[0m \u001b[0mrandom_sample\u001b[0m\u001b[0;34m(\u001b[0m\u001b[0;34m'int'\u001b[0m\u001b[0;34m,\u001b[0m\u001b[0mimages_domain\u001b[0m\u001b[0;34m)\u001b[0m \u001b[0;34m+\u001b[0m \u001b[0mrandom_sample\u001b[0m\u001b[0;34m(\u001b[0m\u001b[0;34m'float'\u001b[0m\u001b[0;34m,\u001b[0m\u001b[0mmodification_domain\u001b[0m\u001b[0;34m)\u001b[0m\u001b[0;34m\u001b[0m\u001b[0m\n\u001b[0;32m----> 6\u001b[0;31m     \u001b[0mimg\u001b[0m\u001b[0;34m,\u001b[0m \u001b[0mbox\u001b[0m \u001b[0;34m=\u001b[0m \u001b[0mgen_comp_img\u001b[0m\u001b[0;34m(\u001b[0m\u001b[0mlib\u001b[0m\u001b[0;34m,\u001b[0m \u001b[0mbg_id\u001b[0m\u001b[0;34m=\u001b[0m\u001b[0msample\u001b[0m\u001b[0;34m[\u001b[0m\u001b[0;36m0\u001b[0m\u001b[0;34m]\u001b[0m\u001b[0;34m,\u001b[0m \u001b[0mfg_id\u001b[0m\u001b[0;34m=\u001b[0m\u001b[0msample\u001b[0m\u001b[0;34m[\u001b[0m\u001b[0;36m1\u001b[0m\u001b[0;34m]\u001b[0m\u001b[0;34m,\u001b[0m\u001b[0mx\u001b[0m\u001b[0;34m=\u001b[0m\u001b[0msample\u001b[0m\u001b[0;34m[\u001b[0m\u001b[0;36m2\u001b[0m\u001b[0;34m]\u001b[0m\u001b[0;34m,\u001b[0m \u001b[0my\u001b[0m\u001b[0;34m=\u001b[0m\u001b[0msample\u001b[0m\u001b[0;34m[\u001b[0m\u001b[0;36m3\u001b[0m\u001b[0;34m]\u001b[0m\u001b[0;34m)\u001b[0m\u001b[0;34m\u001b[0m\u001b[0m\n\u001b[0m\u001b[1;32m      7\u001b[0m \u001b[0;34m\u001b[0m\u001b[0m\n\u001b[1;32m      8\u001b[0m     \u001b[0mfile_name\u001b[0m \u001b[0;34m=\u001b[0m \u001b[0;34m's'\u001b[0m \u001b[0;34m+\u001b[0m \u001b[0mstr\u001b[0m\u001b[0;34m(\u001b[0m\u001b[0mi\u001b[0m\u001b[0;34m)\u001b[0m\u001b[0;34m.\u001b[0m\u001b[0mzfill\u001b[0m\u001b[0;34m(\u001b[0m\u001b[0;36m6\u001b[0m\u001b[0;34m)\u001b[0m\u001b[0;34m\u001b[0m\u001b[0m\n",
      "\u001b[0;32m/home/tommaso/anaconda3/envs/squeezetest27/lib/python2.7/site-packages/cnn_image_generation-0.0.0-py2.7.egg/cnn_image_generation/image_mod_gen_utils.pyc\u001b[0m in \u001b[0;36mgen_comp_img\u001b[0;34m(library, x, y, bg_id, fg_id, brightness, sharpness, contrast, color)\u001b[0m\n\u001b[1;32m     56\u001b[0m     composed_image=superimpose_img(background_image=background.image.copy(),\n\u001b[1;32m     57\u001b[0m                                    \u001b[0mforeground_image\u001b[0m\u001b[0;34m=\u001b[0m \u001b[0mscaled_img\u001b[0m\u001b[0;34m,\u001b[0m\u001b[0;34m\u001b[0m\u001b[0m\n\u001b[0;32m---> 58\u001b[0;31m                                    loc=top_right_loc)\n\u001b[0m\u001b[1;32m     59\u001b[0m \u001b[0;34m\u001b[0m\u001b[0m\n\u001b[1;32m     60\u001b[0m     modif_img= modify_image_bscc(image_data=composed_image, brightness=brightness,\n",
      "\u001b[0;32m/home/tommaso/anaconda3/envs/squeezetest27/lib/python2.7/site-packages/cnn_image_generation-0.0.0-py2.7.egg/cnn_image_generation/image_mod_gen_utils.pyc\u001b[0m in \u001b[0;36msuperimpose_img\u001b[0;34m(background_image, foreground_image, loc)\u001b[0m\n\u001b[1;32m     38\u001b[0m     \u001b[0mmask\u001b[0m \u001b[0;34m=\u001b[0m \u001b[0mImage\u001b[0m\u001b[0;34m.\u001b[0m\u001b[0mnew\u001b[0m\u001b[0;34m(\u001b[0m\u001b[0;34m'L'\u001b[0m\u001b[0;34m,\u001b[0m \u001b[0mforeground_image\u001b[0m\u001b[0;34m.\u001b[0m\u001b[0msize\u001b[0m\u001b[0;34m,\u001b[0m \u001b[0mcolor\u001b[0m\u001b[0;34m=\u001b[0m\u001b[0;36m0\u001b[0m\u001b[0;34m)\u001b[0m\u001b[0;34m\u001b[0m\u001b[0m\n\u001b[1;32m     39\u001b[0m     \u001b[0mmask\u001b[0m\u001b[0;34m.\u001b[0m\u001b[0mputdata\u001b[0m\u001b[0;34m(\u001b[0m\u001b[0mmask_val\u001b[0m\u001b[0;34m)\u001b[0m\u001b[0;34m\u001b[0m\u001b[0m\n\u001b[0;32m---> 40\u001b[0;31m     \u001b[0mbackground_image\u001b[0m\u001b[0;34m.\u001b[0m\u001b[0mpaste\u001b[0m\u001b[0;34m(\u001b[0m\u001b[0mforeground_image\u001b[0m\u001b[0;34m,\u001b[0m \u001b[0mlist\u001b[0m\u001b[0;34m(\u001b[0m\u001b[0mloc\u001b[0m\u001b[0;34m)\u001b[0m\u001b[0;34m,\u001b[0m \u001b[0mmask\u001b[0m\u001b[0;34m)\u001b[0m\u001b[0;34m\u001b[0m\u001b[0m\n\u001b[0m\u001b[1;32m     41\u001b[0m     \u001b[0;32mreturn\u001b[0m \u001b[0mbackground_image\u001b[0m\u001b[0;34m\u001b[0m\u001b[0m\n\u001b[1;32m     42\u001b[0m \u001b[0;34m\u001b[0m\u001b[0m\n",
      "\u001b[0;32m/home/tommaso/anaconda3/envs/squeezetest27/lib/python2.7/site-packages/PIL/Image.pyc\u001b[0m in \u001b[0;36mpaste\u001b[0;34m(self, im, box, mask)\u001b[0m\n\u001b[1;32m   1322\u001b[0m                     \u001b[0;34m\"cannot determine region size; use 4-item box\"\u001b[0m\u001b[0;34m\u001b[0m\u001b[0m\n\u001b[1;32m   1323\u001b[0m                     )\n\u001b[0;32m-> 1324\u001b[0;31m             \u001b[0mbox\u001b[0m \u001b[0;34m=\u001b[0m \u001b[0mbox\u001b[0m \u001b[0;34m+\u001b[0m \u001b[0;34m(\u001b[0m\u001b[0mbox\u001b[0m\u001b[0;34m[\u001b[0m\u001b[0;36m0\u001b[0m\u001b[0;34m]\u001b[0m\u001b[0;34m+\u001b[0m\u001b[0msize\u001b[0m\u001b[0;34m[\u001b[0m\u001b[0;36m0\u001b[0m\u001b[0;34m]\u001b[0m\u001b[0;34m,\u001b[0m \u001b[0mbox\u001b[0m\u001b[0;34m[\u001b[0m\u001b[0;36m1\u001b[0m\u001b[0;34m]\u001b[0m\u001b[0;34m+\u001b[0m\u001b[0msize\u001b[0m\u001b[0;34m[\u001b[0m\u001b[0;36m1\u001b[0m\u001b[0;34m]\u001b[0m\u001b[0;34m)\u001b[0m\u001b[0;34m\u001b[0m\u001b[0m\n\u001b[0m\u001b[1;32m   1325\u001b[0m \u001b[0;34m\u001b[0m\u001b[0m\n\u001b[1;32m   1326\u001b[0m         \u001b[0;32mif\u001b[0m \u001b[0misStringType\u001b[0m\u001b[0;34m(\u001b[0m\u001b[0mim\u001b[0m\u001b[0;34m)\u001b[0m\u001b[0;34m:\u001b[0m\u001b[0;34m\u001b[0m\u001b[0m\n",
      "\u001b[0;31mTypeError\u001b[0m: can only concatenate list (not \"tuple\") to list"
     ]
    }
   ],
   "source": [
    "for i in range(num_pics):\n",
    "    if (i % 25 == 0):\n",
    "        print(i)\n",
    "    \n",
    "    sample = random_sample('int',images_domain) + random_sample('float',modification_domain)\n",
    "    img, box = gen_comp_img(lib, bg_id=sample[0], fg_id=sample[1],x=sample[2], y=sample[3])\n",
    "\n",
    "    file_name = 's' + str(i).zfill(6)\n",
    "    # Save image\n",
    "    img.save(path_synth_set + 'images/' + file_name + '.png')\n",
    "\n",
    "    # Save label\n",
    "    f = open(path_synth_set + 'labels/' + file_name + '.txt', 'w')\n",
    "    label = [0,0,0] + box_2_kitti_format(box) + [0,0,0,0,0,0,0]\n",
    "    label = list(map(str, label))\n",
    "    label = \" \".join(label)\n",
    "    label  = \"Car \" + label\n",
    "    f.write(label)  # python will convert \\n to os.linesep\n",
    "    f.close()"
   ]
  },
  {
   "cell_type": "code",
   "execution_count": null,
   "metadata": {},
   "outputs": [],
   "source": []
  }
 ],
 "metadata": {
  "anaconda-cloud": {},
  "kernelspec": {
   "display_name": "Python 2",
   "language": "python",
   "name": "python2"
  },
  "language_info": {
   "codemirror_mode": {
    "name": "ipython",
    "version": 2
   },
   "file_extension": ".py",
   "mimetype": "text/x-python",
   "name": "python",
   "nbconvert_exporter": "python",
   "pygments_lexer": "ipython2",
   "version": "2.7.13"
  }
 },
 "nbformat": 4,
 "nbformat_minor": 2
}
